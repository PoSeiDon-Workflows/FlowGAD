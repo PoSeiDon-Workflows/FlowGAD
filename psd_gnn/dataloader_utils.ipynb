{
 "cells": [
  {
   "cell_type": "code",
   "execution_count": 1,
   "metadata": {},
   "outputs": [],
   "source": [
    "%load_ext autoreload\n",
    "%autoreload 2\n"
   ]
  },
  {
   "cell_type": "code",
   "execution_count": 2,
   "metadata": {},
   "outputs": [],
   "source": [
    "# NOTE: update the dataset.py file in your local folder.\n",
    "\n",
    "def generate_anomaly_type_data(workflows, anomaly_type, sample_size=30, **kwargs):\n",
    "    \"\"\" Sample from workflows with anomaly types.\n",
    "\n",
    "    Args:\n",
    "        workflows (str | list): workflow name(s). \n",
    "        anomaly_types (str): anomaly type.\n",
    "        sample_size (int, optional): sample size. Defaults to 30.\n",
    "\n",
    "    Returns:\n",
    "        dataset: InMemoryDataset.\n",
    "    \"\"\"\n",
    "    from psd_gnn.dataset import Merge_PSD_Dataset\n",
    "    import os.path as osp\n",
    "    node_level = kwargs.get(\"node_level\", True)\n",
    "    workflows = [workflows] if isinstance(workflows, str) else workflows\n",
    "\n",
    "    ROOT = osp.join(\"/tmp\", \"data\", \"psd\", \"all\")\n",
    "    dataset = Merge_PSD_Dataset(ROOT, name=workflows, \n",
    "                                anomaly_cat=anomaly_type, \n",
    "                                node_level=node_level, \n",
    "                                binary_labels=True, \n",
    "                                sample_size=sample_size, \n",
    "                                force_reprocess=True)\n",
    "    return dataset\n",
    "\n",
    "\n",
    "def generate_large_graphs(dataset, **kwargs):\n",
    "    \"\"\" Build large graphs given a list of graphs.\n",
    "\n",
    "    Args:\n",
    "        dataset (InMemoryDataset): Dataset object.\n",
    "    \n",
    "    Returns:\n",
    "        tuple: data and slices.\n",
    "    \"\"\"    \n",
    "    from torch_geometric.loader import DataLoader, RandomNodeLoader\n",
    "\n",
    "    node_level = kwargs.get(\"node_level\", True)\n",
    "    batch_size = kwargs.get(\"batch_size\", 1)\n",
    "    if node_level:\n",
    "        loader = RandomNodeLoader(dataset[0], num_parts=5, num_workers=5, shuffle=True)\n",
    "    else:\n",
    "        loader = DataLoader(dataset, batch_size=batch_size, shuffle=True)\n",
    "\n",
    "    return loader"
   ]
  },
  {
   "cell_type": "code",
   "execution_count": 3,
   "metadata": {},
   "outputs": [
    {
     "name": "stderr",
     "output_type": "stream",
     "text": [
      "Processing...\n",
      "/home/jinh/PoSeiDon/graph_nn_2/psd_gnn/dataset.py:274: RuntimeWarning: invalid value encountered in divide\n",
      "  norm_feat = (all_feat - v_min) / (v_max - v_min)\n",
      "Done!\n",
      "Processing...\n",
      "/home/jinh/PoSeiDon/graph_nn_2/psd_gnn/dataset.py:274: RuntimeWarning: invalid value encountered in divide\n",
      "  norm_feat = (all_feat - v_min) / (v_max - v_min)\n",
      "Done!\n"
     ]
    }
   ],
   "source": [
    "dataset = generate_anomaly_type_data([\"1000genome_new_2022\", \"montage\"], \"cpu\", sample_size=30)\n",
    "loader = generate_large_graphs(dataset, node_level=True)"
   ]
  },
  {
   "cell_type": "code",
   "execution_count": 4,
   "metadata": {},
   "outputs": [
    {
     "data": {
      "text/plain": [
       "Data(x=[20280, 25], edge_index=[2, 93810], y=[20280])"
      ]
     },
     "execution_count": 4,
     "metadata": {},
     "output_type": "execute_result"
    }
   ],
   "source": [
    "# sampled dataset\n",
    "dataset[0]"
   ]
  },
  {
   "cell_type": "code",
   "execution_count": 5,
   "metadata": {},
   "outputs": [
    {
     "data": {
      "text/plain": [
       "(tensor([[1.0000, 0.0000, 0.0000,  ..., 0.0000, 0.0000, 0.0000],\n",
       "         [0.0000, 1.0000, 0.0000,  ..., 0.0000, 0.0000, 0.2500],\n",
       "         [0.0000, 1.0000, 0.0000,  ..., 0.0000, 0.0000, 0.2500],\n",
       "         ...,\n",
       "         [0.0000, 0.0000, 1.0000,  ..., 1.0000, 0.0000, 0.7500],\n",
       "         [1.0000, 0.0000, 0.0000,  ..., 1.0000, 0.0000, 1.0000],\n",
       "         [1.0000, 0.0000, 0.0000,  ..., 1.0000, 0.0000, 1.0000]]),\n",
       " tensor([[    0,     0,     0,  ..., 20275, 20277, 20277],\n",
       "         [    1,     2,     3,  ..., 20277, 20278, 20279]]))"
      ]
     },
     "execution_count": 5,
     "metadata": {},
     "output_type": "execute_result"
    }
   ],
   "source": [
    "# access features from loader\n",
    "loader.data.x, loader.data.edge_index"
   ]
  },
  {
   "cell_type": "code",
   "execution_count": null,
   "metadata": {},
   "outputs": [],
   "source": []
  }
 ],
 "metadata": {
  "kernelspec": {
   "display_name": "psd",
   "language": "python",
   "name": "python3"
  },
  "language_info": {
   "codemirror_mode": {
    "name": "ipython",
    "version": 3
   },
   "file_extension": ".py",
   "mimetype": "text/x-python",
   "name": "python",
   "nbconvert_exporter": "python",
   "pygments_lexer": "ipython3",
   "version": "3.8.15"
  },
  "orig_nbformat": 4
 },
 "nbformat": 4,
 "nbformat_minor": 2
}
