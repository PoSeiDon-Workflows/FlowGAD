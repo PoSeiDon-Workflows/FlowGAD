{
 "cells": [
  {
   "attachments": {},
   "cell_type": "markdown",
   "metadata": {},
   "source": [
    "# Base case of graph classification\n",
    "\n",
    "* default hp setting same as utils.py\n",
    "* epoch = 500\n",
    "* 1000genome: train accuracy: 0.945, val acc: 0.907, test acc: 0.923 \n"
   ]
  },
  {
   "cell_type": "code",
   "execution_count": 1,
   "metadata": {},
   "outputs": [],
   "source": [
    "# imports\n",
    "import os.path as osp\n",
    "import random\n",
    "from datetime import datetime\n",
    "\n",
    "import matplotlib.pyplot as plt\n",
    "import numpy as np\n",
    "import torch\n",
    "import torch.nn.functional as F\n",
    "from sklearn.metrics import (accuracy_score, confusion_matrix, f1_score,\n",
    "                             precision_score, recall_score)\n",
    "from sklearn.model_selection import train_test_split\n",
    "from torch.distributions import LogNormal\n",
    "from torch.nn import (CrossEntropyLoss, Linear, ModuleList, ReLU, Sequential,\n",
    "                      Tanh)\n",
    "from torch.optim.lr_scheduler import ReduceLROnPlateau\n",
    "from torch.utils.tensorboard import SummaryWriter\n",
    "from torch_geometric.loader import (DataLoader, ImbalancedSampler,\n",
    "                                    NeighborLoader)\n",
    "from torch_geometric.nn import GCNConv, SAGEConv\n",
    "from torch_geometric.nn import global_mean_pool as gap\n",
    "from tqdm import tqdm\n",
    "\n",
    "from psd_gnn.dataset import Merge_PSD_Dataset, PSD_Dataset\n",
    "from psd_gnn.models.graph_classifier import GNN\n",
    "# from psd_gnn.models.graph_classifier import GNN\n",
    "from psd_gnn.utils import process_args, eval_metrics, create_dir\n",
    "\n",
    "random.seed(0)\n",
    "torch.manual_seed(0)\n",
    "np.random.seed(0)"
   ]
  },
  {
   "cell_type": "code",
   "execution_count": 2,
   "metadata": {},
   "outputs": [
    {
     "name": "stdout",
     "output_type": "stream",
     "text": [
      "cpu\n"
     ]
    }
   ],
   "source": [
    "# Global settings\n",
    "\n",
    "if torch.backends.mps.is_available():\n",
    "    DEVICE = torch.device(\"cpu\")\n",
    "elif torch.cuda.is_available():\n",
    "    DEVICE = torch.device(\"cuda:0\")\n",
    "else:\n",
    "    DEVICE = torch.device(\"cpu\")\n",
    "print(DEVICE)"
   ]
  },
  {
   "cell_type": "code",
   "execution_count": 3,
   "metadata": {},
   "outputs": [],
   "source": [
    "# Model definitions\n",
    "wf = \"1000genome\"\n",
    "\n",
    "\n",
    "# ROOT = osp.join(osp.expanduser(\"~\"), \"tmp\", \"data\", wf)\n",
    "dataset = PSD_Dataset(\"./\", wf, binary_labels=True, node_level=False)\n",
    "n_graphs = len(dataset)\n",
    "train_idx, test_idx = train_test_split(np.arange(n_graphs), test_size=0.6, random_state=0, shuffle=True)\n",
    "val_idx, test_idx = train_test_split(test_idx, test_size=0.5, random_state=0, shuffle=True)\n",
    "\n",
    "train_loader = DataLoader(dataset[train_idx], batch_size=32)\n",
    "val_loader = DataLoader(dataset[val_idx], batch_size=32)\n",
    "test_loader = DataLoader(dataset[test_idx], batch_size=32)\n",
    "\n",
    "NUM_NODE_FEATURES = dataset.num_node_features\n",
    "NUM_OUT_FEATURES = dataset.num_classes\n",
    "\n",
    "model = GNN(NUM_NODE_FEATURES, 64, NUM_OUT_FEATURES).to(DEVICE)\n",
    "optimizer = torch.optim.Adam(model.parameters(), lr=1e-4)\n",
    "# NOTE: ignore the weighted loss for now\n",
    "loss_func = CrossEntropyLoss()"
   ]
  },
  {
   "cell_type": "code",
   "execution_count": 4,
   "metadata": {},
   "outputs": [],
   "source": [
    "def train(model, loader):\n",
    "    \"\"\" Train function\n",
    "\n",
    "    Args:\n",
    "        model (object): GNN model instance.\n",
    "        loader (pyg.loader.DataLoader): Data loader object.\n",
    "\n",
    "    Returns:\n",
    "        float: Training accuracy.\n",
    "    \"\"\"\n",
    "    model.train()\n",
    "    total_loss = 0\n",
    "    for data in loader:\n",
    "        data = data.to(DEVICE)\n",
    "        optimizer.zero_grad()\n",
    "        out = model(data.x, data.edge_index, data.batch)\n",
    "        loss = loss_func(out, data.y)\n",
    "        loss.backward()\n",
    "        optimizer.step()\n",
    "        total_loss += float(loss) * data.num_graphs\n",
    "    return total_loss / len(loader.dataset)\n",
    "\n",
    "\n",
    "@torch.no_grad()\n",
    "def test(model, loader):\n",
    "    \"\"\" Evaluation function.\n",
    "\n",
    "    Args:\n",
    "        model (object): GNN model instance.\n",
    "        loader (pyg.loader.DataLoader): Data loader object.\n",
    "\n",
    "    Returns:\n",
    "        tuple (float, list): Testing accuracy, predicted labels.\n",
    "    \"\"\"\n",
    "    model.eval()\n",
    "\n",
    "    total_correct = 0\n",
    "    y_pred = []\n",
    "    y_true = []\n",
    "    for data in loader:\n",
    "        data = data.to(DEVICE)\n",
    "        pred = model(data.x, data.edge_index, data.batch).argmax(dim=-1)\n",
    "        # aggregate the y_pred from batches\n",
    "        y_pred += pred.detach().cpu().numpy().tolist()\n",
    "        y_true += data.y.detach().cpu().numpy().tolist()\n",
    "        total_correct += int((pred == data.y).sum())\n",
    "\n",
    "    return total_correct / len(loader.dataset), y_pred, y_true, 0"
   ]
  },
  {
   "cell_type": "code",
   "execution_count": 5,
   "metadata": {},
   "outputs": [
    {
     "name": "stderr",
     "output_type": "stream",
     "text": [
      "1000genome:   0%|          | 2/1000 [00:00<03:30,  4.73it/s, train_loss=0.739, train_acc=0.152, test_acc=0.15, f1 score=0, val_best=0.171]"
     ]
    },
    {
     "name": "stdout",
     "output_type": "stream",
     "text": [
      "graph level clf: 1000genome binary True test acc 0.1496 f1 0.0000 recall 0.0000 prec 0.0000 [[ 57   0]\n",
      " [324   0]] \n",
      "\n"
     ]
    },
    {
     "name": "stderr",
     "output_type": "stream",
     "text": [
      "1000genome:  10%|█         | 102/1000 [00:19<02:51,  5.25it/s, train_loss=0.404, train_acc=0.848, test_acc=0.85, f1 score=0.919, val_best=0.829]"
     ]
    },
    {
     "name": "stdout",
     "output_type": "stream",
     "text": [
      "graph level clf: 1000genome binary True test acc 0.8504 f1 0.9191 recall 1.0000 prec 0.8504 [[  0  57]\n",
      " [  0 324]] \n",
      "\n"
     ]
    },
    {
     "name": "stderr",
     "output_type": "stream",
     "text": [
      "1000genome:  20%|██        | 202/1000 [00:38<02:33,  5.19it/s, train_loss=0.343, train_acc=0.848, test_acc=0.85, f1 score=0.919, val_best=0.829]"
     ]
    },
    {
     "name": "stdout",
     "output_type": "stream",
     "text": [
      "graph level clf: 1000genome binary True test acc 0.8504 f1 0.9191 recall 1.0000 prec 0.8504 [[  0  57]\n",
      " [  0 324]] \n",
      "\n"
     ]
    },
    {
     "name": "stderr",
     "output_type": "stream",
     "text": [
      "1000genome:  30%|███       | 302/1000 [00:57<02:12,  5.28it/s, train_loss=0.299, train_acc=0.868, test_acc=0.869, f1 score=0.927, val_best=0.84] "
     ]
    },
    {
     "name": "stdout",
     "output_type": "stream",
     "text": [
      "graph level clf: 1000genome binary True test acc 0.8688 f1 0.9271 recall 0.9815 prec 0.8785 [[ 13  44]\n",
      " [  6 318]] \n",
      "\n"
     ]
    },
    {
     "name": "stderr",
     "output_type": "stream",
     "text": [
      "1000genome:  40%|████      | 402/1000 [01:17<01:56,  5.13it/s, train_loss=0.289, train_acc=0.868, test_acc=0.871, f1 score=0.928, val_best=0.845]"
     ]
    },
    {
     "name": "stdout",
     "output_type": "stream",
     "text": [
      "graph level clf: 1000genome binary True test acc 0.8714 f1 0.9278 recall 0.9722 prec 0.8873 [[ 17  40]\n",
      " [  9 315]] \n",
      "\n"
     ]
    },
    {
     "name": "stderr",
     "output_type": "stream",
     "text": [
      "1000genome:  50%|█████     | 502/1000 [01:36<01:35,  5.21it/s, train_loss=0.28, train_acc=0.868, test_acc=0.877, f1 score=0.931, val_best=0.853] "
     ]
    },
    {
     "name": "stdout",
     "output_type": "stream",
     "text": [
      "graph level clf: 1000genome binary True test acc 0.8766 f1 0.9306 recall 0.9722 prec 0.8924 [[ 19  38]\n",
      " [  9 315]] \n",
      "\n"
     ]
    },
    {
     "name": "stderr",
     "output_type": "stream",
     "text": [
      "1000genome:  60%|██████    | 602/1000 [01:55<01:16,  5.22it/s, train_loss=0.271, train_acc=0.88, test_acc=0.874, f1 score=0.929, val_best=0.856] "
     ]
    },
    {
     "name": "stdout",
     "output_type": "stream",
     "text": [
      "graph level clf: 1000genome binary True test acc 0.8740 f1 0.9288 recall 0.9660 prec 0.8943 [[ 20  37]\n",
      " [ 11 313]] \n",
      "\n"
     ]
    },
    {
     "name": "stderr",
     "output_type": "stream",
     "text": [
      "1000genome:  70%|███████   | 702/1000 [02:15<00:57,  5.21it/s, train_loss=0.263, train_acc=0.884, test_acc=0.871, f1 score=0.927, val_best=0.861]"
     ]
    },
    {
     "name": "stdout",
     "output_type": "stream",
     "text": [
      "graph level clf: 1000genome binary True test acc 0.8714 f1 0.9272 recall 0.9630 prec 0.8940 [[ 20  37]\n",
      " [ 12 312]] \n",
      "\n"
     ]
    },
    {
     "name": "stderr",
     "output_type": "stream",
     "text": [
      "1000genome:  80%|████████  | 802/1000 [02:34<00:37,  5.26it/s, train_loss=0.255, train_acc=0.892, test_acc=0.874, f1 score=0.929, val_best=0.871]"
     ]
    },
    {
     "name": "stdout",
     "output_type": "stream",
     "text": [
      "graph level clf: 1000genome binary True test acc 0.8740 f1 0.9288 recall 0.9660 prec 0.8943 [[ 20  37]\n",
      " [ 11 313]] \n",
      "\n"
     ]
    },
    {
     "name": "stderr",
     "output_type": "stream",
     "text": [
      "1000genome:  90%|█████████ | 902/1000 [02:54<00:19,  5.09it/s, train_loss=0.248, train_acc=0.898, test_acc=0.877, f1 score=0.93, val_best=0.887] "
     ]
    },
    {
     "name": "stdout",
     "output_type": "stream",
     "text": [
      "graph level clf: 1000genome binary True test acc 0.8766 f1 0.9300 recall 0.9630 prec 0.8991 [[ 22  35]\n",
      " [ 12 312]] \n",
      "\n"
     ]
    },
    {
     "name": "stderr",
     "output_type": "stream",
     "text": [
      "1000genome: 100%|██████████| 1000/1000 [03:13<00:00,  5.17it/s, train_loss=0.243, train_acc=0.894, test_acc=0.882, f1 score=0.933, val_best=0.887]\n",
      "nowcast-clustering-8:   0%|          | 3/1000 [00:00<01:37, 10.26it/s, train_loss=0.631, train_acc=0.793, test_acc=0.767, f1 score=0.868, val_best=0.778]"
     ]
    },
    {
     "name": "stdout",
     "output_type": "stream",
     "text": [
      "graph level clf: nowcast-clustering-8 binary True test acc 0.7669 f1 0.8681 recall 1.0000 prec 0.7669 [[  0  86]\n",
      " [  0 283]] \n",
      "\n"
     ]
    },
    {
     "name": "stderr",
     "output_type": "stream",
     "text": [
      "nowcast-clustering-8:  10%|█         | 103/1000 [00:09<01:19, 11.34it/s, train_loss=0.501, train_acc=0.793, test_acc=0.767, f1 score=0.868, val_best=0.778]"
     ]
    },
    {
     "name": "stdout",
     "output_type": "stream",
     "text": [
      "graph level clf: nowcast-clustering-8 binary True test acc 0.7669 f1 0.8681 recall 1.0000 prec 0.7669 [[  0  86]\n",
      " [  0 283]] \n",
      "\n"
     ]
    },
    {
     "name": "stderr",
     "output_type": "stream",
     "text": [
      "nowcast-clustering-8:  20%|██        | 203/1000 [00:18<01:13, 10.85it/s, train_loss=0.483, train_acc=0.793, test_acc=0.767, f1 score=0.868, val_best=0.778]"
     ]
    },
    {
     "name": "stdout",
     "output_type": "stream",
     "text": [
      "graph level clf: nowcast-clustering-8 binary True test acc 0.7669 f1 0.8681 recall 1.0000 prec 0.7669 [[  0  86]\n",
      " [  0 283]] \n",
      "\n"
     ]
    },
    {
     "name": "stderr",
     "output_type": "stream",
     "text": [
      "nowcast-clustering-8:  30%|███       | 303/1000 [00:27<01:05, 10.59it/s, train_loss=0.455, train_acc=0.793, test_acc=0.767, f1 score=0.868, val_best=0.778]"
     ]
    },
    {
     "name": "stdout",
     "output_type": "stream",
     "text": [
      "graph level clf: nowcast-clustering-8 binary True test acc 0.7669 f1 0.8681 recall 1.0000 prec 0.7669 [[  0  86]\n",
      " [  0 283]] \n",
      "\n"
     ]
    },
    {
     "name": "stderr",
     "output_type": "stream",
     "text": [
      "nowcast-clustering-8:  40%|████      | 403/1000 [00:36<00:53, 11.19it/s, train_loss=0.426, train_acc=0.795, test_acc=0.77, f1 score=0.869, val_best=0.778] "
     ]
    },
    {
     "name": "stdout",
     "output_type": "stream",
     "text": [
      "graph level clf: nowcast-clustering-8 binary True test acc 0.7696 f1 0.8690 recall 0.9965 prec 0.7705 [[  2  84]\n",
      " [  1 282]] \n",
      "\n"
     ]
    },
    {
     "name": "stderr",
     "output_type": "stream",
     "text": [
      "nowcast-clustering-8:  50%|█████     | 503/1000 [00:45<00:43, 11.41it/s, train_loss=0.398, train_acc=0.821, test_acc=0.77, f1 score=0.866, val_best=0.799] "
     ]
    },
    {
     "name": "stdout",
     "output_type": "stream",
     "text": [
      "graph level clf: nowcast-clustering-8 binary True test acc 0.7696 f1 0.8661 recall 0.9717 prec 0.7812 [[  9  77]\n",
      " [  8 275]] \n",
      "\n"
     ]
    },
    {
     "name": "stderr",
     "output_type": "stream",
     "text": [
      "nowcast-clustering-8:  60%|██████    | 603/1000 [00:54<00:37, 10.72it/s, train_loss=0.38, train_acc=0.819, test_acc=0.783, f1 score=0.873, val_best=0.799] "
     ]
    },
    {
     "name": "stdout",
     "output_type": "stream",
     "text": [
      "graph level clf: nowcast-clustering-8 binary True test acc 0.7832 f1 0.8730 recall 0.9717 prec 0.7925 [[ 14  72]\n",
      " [  8 275]] \n",
      "\n"
     ]
    },
    {
     "name": "stderr",
     "output_type": "stream",
     "text": [
      "nowcast-clustering-8:  70%|███████   | 703/1000 [01:03<00:26, 11.37it/s, train_loss=0.369, train_acc=0.825, test_acc=0.789, f1 score=0.875, val_best=0.799]"
     ]
    },
    {
     "name": "stdout",
     "output_type": "stream",
     "text": [
      "graph level clf: nowcast-clustering-8 binary True test acc 0.7886 f1 0.8750 recall 0.9647 prec 0.8006 [[ 18  68]\n",
      " [ 10 273]] \n",
      "\n"
     ]
    },
    {
     "name": "stderr",
     "output_type": "stream",
     "text": [
      "nowcast-clustering-8:  80%|████████  | 803/1000 [01:12<00:17, 11.03it/s, train_loss=0.362, train_acc=0.833, test_acc=0.799, f1 score=0.879, val_best=0.802]"
     ]
    },
    {
     "name": "stdout",
     "output_type": "stream",
     "text": [
      "graph level clf: nowcast-clustering-8 binary True test acc 0.7995 f1 0.8795 recall 0.9541 prec 0.8157 [[ 25  61]\n",
      " [ 13 270]] \n",
      "\n"
     ]
    },
    {
     "name": "stderr",
     "output_type": "stream",
     "text": [
      "nowcast-clustering-8:  90%|█████████ | 903/1000 [01:21<00:08, 10.78it/s, train_loss=0.358, train_acc=0.833, test_acc=0.805, f1 score=0.882, val_best=0.81] "
     ]
    },
    {
     "name": "stdout",
     "output_type": "stream",
     "text": [
      "graph level clf: nowcast-clustering-8 binary True test acc 0.8049 f1 0.8820 recall 0.9505 prec 0.8226 [[ 28  58]\n",
      " [ 14 269]] \n",
      "\n"
     ]
    },
    {
     "name": "stderr",
     "output_type": "stream",
     "text": [
      "nowcast-clustering-8: 100%|██████████| 1000/1000 [01:30<00:00, 11.05it/s, train_loss=0.355, train_acc=0.835, test_acc=0.802, f1 score=0.88, val_best=0.81]\n",
      "nowcast-clustering-16:   0%|          | 3/1000 [00:00<01:41,  9.81it/s, train_loss=0.681, train_acc=0.793, test_acc=0.767, f1 score=0.868, val_best=0.778]"
     ]
    },
    {
     "name": "stdout",
     "output_type": "stream",
     "text": [
      "graph level clf: nowcast-clustering-16 binary True test acc 0.2331 f1 0.0000 recall 0.0000 prec 0.0000 [[ 86   0]\n",
      " [283   0]] \n",
      "\n"
     ]
    },
    {
     "name": "stderr",
     "output_type": "stream",
     "text": [
      "nowcast-clustering-16:  10%|█         | 103/1000 [00:08<01:12, 12.45it/s, train_loss=0.508, train_acc=0.793, test_acc=0.767, f1 score=0.868, val_best=0.778]"
     ]
    },
    {
     "name": "stdout",
     "output_type": "stream",
     "text": [
      "graph level clf: nowcast-clustering-16 binary True test acc 0.7669 f1 0.8681 recall 1.0000 prec 0.7669 [[  0  86]\n",
      " [  0 283]] \n",
      "\n"
     ]
    },
    {
     "name": "stderr",
     "output_type": "stream",
     "text": [
      "nowcast-clustering-16:  20%|██        | 203/1000 [00:16<01:01, 12.89it/s, train_loss=0.5, train_acc=0.793, test_acc=0.767, f1 score=0.868, val_best=0.778]  "
     ]
    },
    {
     "name": "stdout",
     "output_type": "stream",
     "text": [
      "graph level clf: nowcast-clustering-16 binary True test acc 0.7669 f1 0.8681 recall 1.0000 prec 0.7669 [[  0  86]\n",
      " [  0 283]] \n",
      "\n"
     ]
    },
    {
     "name": "stderr",
     "output_type": "stream",
     "text": [
      "nowcast-clustering-16:  30%|███       | 303/1000 [00:24<00:57, 12.04it/s, train_loss=0.484, train_acc=0.793, test_acc=0.767, f1 score=0.868, val_best=0.778]"
     ]
    },
    {
     "name": "stdout",
     "output_type": "stream",
     "text": [
      "graph level clf: nowcast-clustering-16 binary True test acc 0.7669 f1 0.8681 recall 1.0000 prec 0.7669 [[  0  86]\n",
      " [  0 283]] \n",
      "\n"
     ]
    },
    {
     "name": "stderr",
     "output_type": "stream",
     "text": [
      "nowcast-clustering-16:  40%|████      | 403/1000 [00:32<00:48, 12.37it/s, train_loss=0.474, train_acc=0.793, test_acc=0.77, f1 score=0.869, val_best=0.78]  "
     ]
    },
    {
     "name": "stdout",
     "output_type": "stream",
     "text": [
      "graph level clf: nowcast-clustering-16 binary True test acc 0.7696 f1 0.8694 recall 1.0000 prec 0.7690 [[  1  85]\n",
      " [  0 283]] \n",
      "\n"
     ]
    },
    {
     "name": "stderr",
     "output_type": "stream",
     "text": [
      "nowcast-clustering-16:  50%|█████     | 503/1000 [00:40<00:40, 12.29it/s, train_loss=0.471, train_acc=0.797, test_acc=0.778, f1 score=0.873, val_best=0.786]"
     ]
    },
    {
     "name": "stdout",
     "output_type": "stream",
     "text": [
      "graph level clf: nowcast-clustering-16 binary True test acc 0.7778 f1 0.8731 recall 0.9965 prec 0.7769 [[  5  81]\n",
      " [  1 282]] \n",
      "\n"
     ]
    },
    {
     "name": "stderr",
     "output_type": "stream",
     "text": [
      "nowcast-clustering-16:  60%|██████    | 603/1000 [00:49<00:35, 11.06it/s, train_loss=0.47, train_acc=0.799, test_acc=0.778, f1 score=0.873, val_best=0.786] "
     ]
    },
    {
     "name": "stdout",
     "output_type": "stream",
     "text": [
      "graph level clf: nowcast-clustering-16 binary True test acc 0.7778 f1 0.8731 recall 0.9965 prec 0.7769 [[  5  81]\n",
      " [  1 282]] \n",
      "\n"
     ]
    },
    {
     "name": "stderr",
     "output_type": "stream",
     "text": [
      "nowcast-clustering-16:  70%|███████   | 703/1000 [00:57<00:23, 12.55it/s, train_loss=0.468, train_acc=0.801, test_acc=0.778, f1 score=0.873, val_best=0.786]"
     ]
    },
    {
     "name": "stdout",
     "output_type": "stream",
     "text": [
      "graph level clf: nowcast-clustering-16 binary True test acc 0.7778 f1 0.8731 recall 0.9965 prec 0.7769 [[  5  81]\n",
      " [  1 282]] \n",
      "\n"
     ]
    },
    {
     "name": "stderr",
     "output_type": "stream",
     "text": [
      "nowcast-clustering-16:  80%|████████  | 803/1000 [01:05<00:16, 11.88it/s, train_loss=0.466, train_acc=0.801, test_acc=0.78, f1 score=0.874, val_best=0.786] "
     ]
    },
    {
     "name": "stdout",
     "output_type": "stream",
     "text": [
      "graph level clf: nowcast-clustering-16 binary True test acc 0.7805 f1 0.8744 recall 0.9965 prec 0.7790 [[  6  80]\n",
      " [  1 282]] \n",
      "\n"
     ]
    },
    {
     "name": "stderr",
     "output_type": "stream",
     "text": [
      "nowcast-clustering-16:  90%|█████████ | 903/1000 [01:13<00:07, 12.58it/s, train_loss=0.464, train_acc=0.801, test_acc=0.78, f1 score=0.874, val_best=0.786]"
     ]
    },
    {
     "name": "stdout",
     "output_type": "stream",
     "text": [
      "graph level clf: nowcast-clustering-16 binary True test acc 0.7805 f1 0.8744 recall 0.9965 prec 0.7790 [[  6  80]\n",
      " [  1 282]] \n",
      "\n"
     ]
    },
    {
     "name": "stderr",
     "output_type": "stream",
     "text": [
      "nowcast-clustering-16: 100%|██████████| 1000/1000 [01:21<00:00, 12.29it/s, train_loss=0.462, train_acc=0.799, test_acc=0.783, f1 score=0.876, val_best=0.786]\n",
      "wind-clustering-casa:   0%|          | 3/1000 [00:00<01:21, 12.26it/s, train_loss=0.699, train_acc=0.63, test_acc=0.607, f1 score=0.709, val_best=0.596]"
     ]
    },
    {
     "name": "stdout",
     "output_type": "stream",
     "text": [
      "graph level clf: wind-clustering-casa binary True test acc 0.2331 f1 0.0000 recall 0.0000 prec 0.0000 [[ 86   0]\n",
      " [283   0]] \n",
      "\n"
     ]
    },
    {
     "name": "stderr",
     "output_type": "stream",
     "text": [
      "wind-clustering-casa:  10%|█         | 103/1000 [00:07<01:04, 13.80it/s, train_loss=0.503, train_acc=0.793, test_acc=0.767, f1 score=0.868, val_best=0.778]"
     ]
    },
    {
     "name": "stdout",
     "output_type": "stream",
     "text": [
      "graph level clf: wind-clustering-casa binary True test acc 0.7669 f1 0.8681 recall 1.0000 prec 0.7669 [[  0  86]\n",
      " [  0 283]] \n",
      "\n"
     ]
    },
    {
     "name": "stderr",
     "output_type": "stream",
     "text": [
      "wind-clustering-casa:  20%|██        | 203/1000 [00:14<00:59, 13.50it/s, train_loss=0.499, train_acc=0.793, test_acc=0.767, f1 score=0.868, val_best=0.778]"
     ]
    },
    {
     "name": "stdout",
     "output_type": "stream",
     "text": [
      "graph level clf: wind-clustering-casa binary True test acc 0.7669 f1 0.8681 recall 1.0000 prec 0.7669 [[  0  86]\n",
      " [  0 283]] \n",
      "\n"
     ]
    },
    {
     "name": "stderr",
     "output_type": "stream",
     "text": [
      "wind-clustering-casa:  30%|███       | 303/1000 [00:22<00:51, 13.66it/s, train_loss=0.495, train_acc=0.793, test_acc=0.767, f1 score=0.868, val_best=0.778]"
     ]
    },
    {
     "name": "stdout",
     "output_type": "stream",
     "text": [
      "graph level clf: wind-clustering-casa binary True test acc 0.7669 f1 0.8681 recall 1.0000 prec 0.7669 [[  0  86]\n",
      " [  0 283]] \n",
      "\n"
     ]
    },
    {
     "name": "stderr",
     "output_type": "stream",
     "text": [
      "wind-clustering-casa:  40%|████      | 403/1000 [00:29<00:43, 13.84it/s, train_loss=0.493, train_acc=0.793, test_acc=0.767, f1 score=0.868, val_best=0.778]"
     ]
    },
    {
     "name": "stdout",
     "output_type": "stream",
     "text": [
      "graph level clf: wind-clustering-casa binary True test acc 0.7669 f1 0.8681 recall 1.0000 prec 0.7669 [[  0  86]\n",
      " [  0 283]] \n",
      "\n"
     ]
    },
    {
     "name": "stderr",
     "output_type": "stream",
     "text": [
      "wind-clustering-casa:  50%|█████     | 503/1000 [00:36<00:35, 13.81it/s, train_loss=0.492, train_acc=0.793, test_acc=0.767, f1 score=0.868, val_best=0.778]"
     ]
    },
    {
     "name": "stdout",
     "output_type": "stream",
     "text": [
      "graph level clf: wind-clustering-casa binary True test acc 0.7669 f1 0.8681 recall 1.0000 prec 0.7669 [[  0  86]\n",
      " [  0 283]] \n",
      "\n"
     ]
    },
    {
     "name": "stderr",
     "output_type": "stream",
     "text": [
      "wind-clustering-casa:  60%|██████    | 603/1000 [00:44<00:30, 12.89it/s, train_loss=0.491, train_acc=0.793, test_acc=0.767, f1 score=0.868, val_best=0.778]"
     ]
    },
    {
     "name": "stdout",
     "output_type": "stream",
     "text": [
      "graph level clf: wind-clustering-casa binary True test acc 0.7669 f1 0.8681 recall 1.0000 prec 0.7669 [[  0  86]\n",
      " [  0 283]] \n",
      "\n"
     ]
    },
    {
     "name": "stderr",
     "output_type": "stream",
     "text": [
      "wind-clustering-casa:  70%|███████   | 703/1000 [00:52<00:25, 11.75it/s, train_loss=0.489, train_acc=0.793, test_acc=0.767, f1 score=0.868, val_best=0.778]"
     ]
    },
    {
     "name": "stdout",
     "output_type": "stream",
     "text": [
      "graph level clf: wind-clustering-casa binary True test acc 0.7669 f1 0.8681 recall 1.0000 prec 0.7669 [[  0  86]\n",
      " [  0 283]] \n",
      "\n"
     ]
    },
    {
     "name": "stderr",
     "output_type": "stream",
     "text": [
      "wind-clustering-casa:  80%|████████  | 803/1000 [00:59<00:13, 14.40it/s, train_loss=0.487, train_acc=0.793, test_acc=0.767, f1 score=0.868, val_best=0.778]"
     ]
    },
    {
     "name": "stdout",
     "output_type": "stream",
     "text": [
      "graph level clf: wind-clustering-casa binary True test acc 0.7669 f1 0.8681 recall 1.0000 prec 0.7669 [[  0  86]\n",
      " [  0 283]] \n",
      "\n"
     ]
    },
    {
     "name": "stderr",
     "output_type": "stream",
     "text": [
      "wind-clustering-casa:  90%|█████████ | 903/1000 [01:06<00:06, 13.99it/s, train_loss=0.485, train_acc=0.793, test_acc=0.767, f1 score=0.868, val_best=0.778]"
     ]
    },
    {
     "name": "stdout",
     "output_type": "stream",
     "text": [
      "graph level clf: wind-clustering-casa binary True test acc 0.7669 f1 0.8681 recall 1.0000 prec 0.7669 [[  0  86]\n",
      " [  0 283]] \n",
      "\n"
     ]
    },
    {
     "name": "stderr",
     "output_type": "stream",
     "text": [
      "wind-clustering-casa: 100%|██████████| 1000/1000 [01:14<00:00, 13.50it/s, train_loss=0.482, train_acc=0.793, test_acc=0.767, f1 score=0.868, val_best=0.778]\n",
      "wind-noclustering-casa:   0%|          | 2/1000 [00:00<02:37,  6.35it/s, train_loss=0.691, train_acc=0.785, test_acc=0.776, f1 score=0.874, val_best=0.779]"
     ]
    },
    {
     "name": "stdout",
     "output_type": "stream",
     "text": [
      "graph level clf: wind-noclustering-casa binary True test acc 0.2297 f1 0.0143 recall 0.0072 prec 1.0000 [[ 80   0]\n",
      " [275   2]] \n",
      "\n"
     ]
    },
    {
     "name": "stderr",
     "output_type": "stream",
     "text": [
      "wind-noclustering-casa:  10%|█         | 102/1000 [00:11<01:37,  9.22it/s, train_loss=0.516, train_acc=0.785, test_acc=0.776, f1 score=0.874, val_best=0.779]"
     ]
    },
    {
     "name": "stdout",
     "output_type": "stream",
     "text": [
      "graph level clf: wind-noclustering-casa binary True test acc 0.7759 f1 0.8738 recall 1.0000 prec 0.7759 [[  0  80]\n",
      " [  0 277]] \n",
      "\n"
     ]
    },
    {
     "name": "stderr",
     "output_type": "stream",
     "text": [
      "wind-noclustering-casa:  20%|██        | 202/1000 [00:22<01:26,  9.21it/s, train_loss=0.509, train_acc=0.785, test_acc=0.776, f1 score=0.874, val_best=0.779]"
     ]
    },
    {
     "name": "stdout",
     "output_type": "stream",
     "text": [
      "graph level clf: wind-noclustering-casa binary True test acc 0.7759 f1 0.8738 recall 1.0000 prec 0.7759 [[  0  80]\n",
      " [  0 277]] \n",
      "\n"
     ]
    },
    {
     "name": "stderr",
     "output_type": "stream",
     "text": [
      "wind-noclustering-casa:  30%|███       | 302/1000 [00:33<01:16,  9.16it/s, train_loss=0.498, train_acc=0.785, test_acc=0.776, f1 score=0.874, val_best=0.779]"
     ]
    },
    {
     "name": "stdout",
     "output_type": "stream",
     "text": [
      "graph level clf: wind-noclustering-casa binary True test acc 0.7759 f1 0.8738 recall 1.0000 prec 0.7759 [[  0  80]\n",
      " [  0 277]] \n",
      "\n"
     ]
    },
    {
     "name": "stderr",
     "output_type": "stream",
     "text": [
      "wind-noclustering-casa:  40%|████      | 402/1000 [00:44<01:07,  8.91it/s, train_loss=0.484, train_acc=0.785, test_acc=0.776, f1 score=0.874, val_best=0.779]"
     ]
    },
    {
     "name": "stdout",
     "output_type": "stream",
     "text": [
      "graph level clf: wind-noclustering-casa binary True test acc 0.7759 f1 0.8738 recall 1.0000 prec 0.7759 [[  0  80]\n",
      " [  0 277]] \n",
      "\n"
     ]
    },
    {
     "name": "stderr",
     "output_type": "stream",
     "text": [
      "wind-noclustering-casa:  50%|█████     | 502/1000 [00:55<00:53,  9.26it/s, train_loss=0.466, train_acc=0.785, test_acc=0.776, f1 score=0.874, val_best=0.779]"
     ]
    },
    {
     "name": "stdout",
     "output_type": "stream",
     "text": [
      "graph level clf: wind-noclustering-casa binary True test acc 0.7759 f1 0.8738 recall 1.0000 prec 0.7759 [[  0  80]\n",
      " [  0 277]] \n",
      "\n"
     ]
    },
    {
     "name": "stderr",
     "output_type": "stream",
     "text": [
      "wind-noclustering-casa:  60%|██████    | 602/1000 [01:06<00:42,  9.38it/s, train_loss=0.444, train_acc=0.785, test_acc=0.779, f1 score=0.875, val_best=0.787]"
     ]
    },
    {
     "name": "stdout",
     "output_type": "stream",
     "text": [
      "graph level clf: wind-noclustering-casa binary True test acc 0.7787 f1 0.8752 recall 1.0000 prec 0.7781 [[  1  79]\n",
      " [  0 277]] \n",
      "\n"
     ]
    },
    {
     "name": "stderr",
     "output_type": "stream",
     "text": [
      "wind-noclustering-casa:  70%|███████   | 702/1000 [01:17<00:32,  9.28it/s, train_loss=0.421, train_acc=0.796, test_acc=0.784, f1 score=0.876, val_best=0.793]"
     ]
    },
    {
     "name": "stdout",
     "output_type": "stream",
     "text": [
      "graph level clf: wind-noclustering-casa binary True test acc 0.7843 f1 0.8760 recall 0.9819 prec 0.7907 [[  8  72]\n",
      " [  5 272]] \n",
      "\n"
     ]
    },
    {
     "name": "stderr",
     "output_type": "stream",
     "text": [
      "wind-noclustering-casa:  80%|████████  | 802/1000 [01:28<00:21,  9.21it/s, train_loss=0.4, train_acc=0.806, test_acc=0.773, f1 score=0.868, val_best=0.796]  "
     ]
    },
    {
     "name": "stdout",
     "output_type": "stream",
     "text": [
      "graph level clf: wind-noclustering-casa binary True test acc 0.7731 f1 0.8679 recall 0.9603 prec 0.7917 [[ 10  70]\n",
      " [ 11 266]] \n",
      "\n"
     ]
    },
    {
     "name": "stderr",
     "output_type": "stream",
     "text": [
      "wind-noclustering-casa:  90%|█████████ | 902/1000 [01:39<00:10,  9.21it/s, train_loss=0.381, train_acc=0.815, test_acc=0.779, f1 score=0.87, val_best=0.812] "
     ]
    },
    {
     "name": "stdout",
     "output_type": "stream",
     "text": [
      "graph level clf: wind-noclustering-casa binary True test acc 0.7787 f1 0.8699 recall 0.9531 prec 0.8000 [[ 14  66]\n",
      " [ 13 264]] \n",
      "\n"
     ]
    },
    {
     "name": "stderr",
     "output_type": "stream",
     "text": [
      "wind-noclustering-casa: 100%|██████████| 1000/1000 [01:50<00:00,  9.09it/s, train_loss=0.365, train_acc=0.817, test_acc=0.798, f1 score=0.88, val_best=0.815]\n"
     ]
    }
   ],
   "source": [
    "''' train and eval model '''\n",
    "# NOTE: increase the epochs to 500. The same as the settings in IJHPCA paper\n",
    "workflows = [\"1000genome\", \n",
    "        \"nowcast-clustering-8\",\n",
    "        \"nowcast-clustering-16\",\n",
    "        \"wind-clustering-casa\",\n",
    "        \"wind-noclustering-casa\"]\n",
    "''' Build GNN model '''\n",
    "from torch.utils.tensorboard import SummaryWriter\n",
    "for wf in  workflows:\n",
    "    # ROOT = osp.join(osp.expanduser(\"~\"), \"tmp\", \"data\", wf)\n",
    "    dataset = PSD_Dataset(\"./\", wf, binary_labels=True, node_level=False)\n",
    "    n_graphs = len(dataset)\n",
    "    train_idx, test_idx = train_test_split(np.arange(n_graphs), test_size=0.6, random_state=0, shuffle=True)\n",
    "    val_idx, test_idx = train_test_split(test_idx, test_size=0.5, random_state=0, shuffle=True)\n",
    "\n",
    "    train_loader = DataLoader(dataset[train_idx], batch_size=32)\n",
    "    val_loader = DataLoader(dataset[val_idx], batch_size=32)\n",
    "    test_loader = DataLoader(dataset[test_idx], batch_size=32)\n",
    "\n",
    "    NUM_NODE_FEATURES = dataset.num_node_features\n",
    "    NUM_OUT_FEATURES = dataset.num_classes\n",
    "\n",
    "    model = GNN(NUM_NODE_FEATURES, 64, NUM_OUT_FEATURES).to(DEVICE)\n",
    "    optimizer = torch.optim.Adam(model.parameters(), lr=1e-4)\n",
    "    # NOTE: ignore the weighted loss for now\n",
    "    loss_func = CrossEntropyLoss()\n",
    "\n",
    "    loss_array =[]\n",
    "    acc_arr=[]\n",
    "    f1_arr=[]\n",
    "    precision_arr=[]\n",
    "    recall_arr=[]\n",
    "\n",
    "    ts_start = datetime.now().strftime('%Y%m%d_%H%M%S')\n",
    "    pbar = tqdm(range(1000), desc=wf)\n",
    "    best = 0\n",
    "\n",
    "    for e in pbar:\n",
    "        train_loss = train(model, train_loader)\n",
    "        train_acc, y_pred, _, _ = test(model, train_loader)\n",
    "        val_acc, _, _,_ = test(model, val_loader)\n",
    "        test_acc, y_pred, y_true, _ = test(model, test_loader)\n",
    "\n",
    "\n",
    "        if val_acc > best:\n",
    "            # NOTE: ignore of model dumping for now\n",
    "            # save tmp model on disk\n",
    "            # create_dir(\"tmp_models\")\n",
    "            # torch.save(model, osp.join(f\"tmp_models\",\n",
    "            #                             f\"saved_models_{args['workflow']}_{ts_start}\"))\n",
    "            best = val_acc\n",
    "\n",
    "\n",
    "\n",
    "\n",
    "\n",
    "        # scheduler.step(train_loss) \n",
    "        ## Record all info\n",
    "        loss_array.append(train_loss)\n",
    "        conf_mat = confusion_matrix(y_true, y_pred)\n",
    "        prec_val = precision_score(y_true, y_pred)\n",
    "        f1_val = f1_score(y_true, y_pred)\n",
    "        recall_val = recall_score(y_true, y_pred)\n",
    "        pbar.set_postfix({\"train_loss\": train_loss,\\\n",
    "                        \"train_acc\": train_acc,\\\n",
    "                        \"test_acc\": test_acc,\\\n",
    "                        \"f1 score\": f1_val, \"val_best\":best})\n",
    "        acc_arr.append(test_acc)\n",
    "        f1_arr.append(f1_val)\n",
    "        precision_arr.append(prec_val)\n",
    "        recall_arr.append(recall_val)\n",
    "\n",
    "        if e % 100 == 0:\n",
    "        #     # ## The resulting information\n",
    "        #     # actual_Data = model.dist.sample_n( 10000 )\n",
    "        #     # probs = model.dist.log_prob(actual_Data).exp().squeeze(1)\n",
    "        #     # args = np.argsort(actual_Data.squeeze(1).detach().cpu().numpy() )\n",
    "        #     # probs = probs[args]\n",
    "        #     # actual_Data = actual_Data[args]\n",
    "        #     # train_acc, y_pred, y_true, outputs = test(model, train_loader)\n",
    "        #     # plt.plot(actual_Data, probs)\n",
    "        #     # x, bins, p = plt.hist(outputs, density=True)\n",
    "        #     # for item in p:\n",
    "        #     #     item.set_height(item.get_height()/sum(x))\n",
    "        #     # # plt.xlim([0,1])\n",
    "        #     # # plt.ylim([0,1])\n",
    "        #     # plt.title(wfs)\n",
    "        #     # # plt.savefig('CL_Figures/'+wfs+'prob'+'.png', dpi = 500)\n",
    "        #     # plt.show()\n",
    "        #     # ## The final training metrics\n",
    "        #     # ys = []    \n",
    "        # test_acc, y_pred, y_true, _ = test(model, test_loader)\n",
    "        # print(np.unique(y_pred, return_counts=True), \"real\", np.unique(y_true, return_counts=True) )\n",
    "        # conf_mat = confusion_matrix(y_true, y_pred)\n",
    "        # prec_val = precision_score(y_true, y_pred)\n",
    "        # f1_val = f1_score(y_true, y_pred)\n",
    "        # recall_val = recall_score(y_true, y_pred)\n",
    "            print(\"graph level clf:\", wf,\n",
    "                f\"binary True\",\n",
    "                f\"test acc {test_acc:.4f}\",\n",
    "                f\"f1 {f1_val:.4f}\",\n",
    "                f\"recall {recall_val:.4f}\",\n",
    "                f\"prec {prec_val:.4f}\", conf_mat, \"\\n\"\n",
    "                )\n",
    "            \n",
    "\n",
    "    np.savetxt('CL_res/'+wf+'upper_training.csv', np.array(loss_array), delimiter = ',')\n",
    "    np.savetxt('CL_res/'+wf+'upper_training_loss.csv', np.array(loss_array), delimiter = ',')\n",
    "    np.savetxt('CL_res/'+wf+'upper_acc.csv', np.array(acc_arr), delimiter = ',')\n",
    "    np.savetxt('CL_res/'+wf+'upper_precision.csv', np.array(precision_arr), delimiter = ',')\n",
    "    np.savetxt('CL_res/'+wf+'upper_recall.csv', np.array(recall_arr), delimiter = ',')\n",
    "    \n",
    "    del model\n",
    "    del optimizer\n",
    "    del loss_func"
   ]
  },
  {
   "cell_type": "code",
   "execution_count": null,
   "metadata": {},
   "outputs": [],
   "source": []
  },
  {
   "attachments": {},
   "cell_type": "markdown",
   "metadata": {},
   "source": []
  }
 ],
 "metadata": {
  "kernelspec": {
   "display_name": "psd",
   "language": "python",
   "name": "python3"
  },
  "language_info": {
   "codemirror_mode": {
    "name": "ipython",
    "version": 3
   },
   "file_extension": ".py",
   "mimetype": "text/x-python",
   "name": "python",
   "nbconvert_exporter": "python",
   "pygments_lexer": "ipython3",
   "version": "3.8.16"
  },
  "orig_nbformat": 4
 },
 "nbformat": 4,
 "nbformat_minor": 2
}
