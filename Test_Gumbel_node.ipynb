{
 "cells": [
  {
   "cell_type": "code",
   "execution_count": 1,
   "id": "f57dd340",
   "metadata": {
    "scrolled": true
   },
   "outputs": [],
   "source": [
    "## The Demo model"
   ]
  },
  {
   "cell_type": "code",
   "execution_count": 22,
   "id": "80da2b29",
   "metadata": {
    "scrolled": false
   },
   "outputs": [
    {
     "data": {
      "text/plain": [
       "<torch._C.Generator at 0x10713d150>"
      ]
     },
     "execution_count": 22,
     "metadata": {},
     "output_type": "execute_result"
    }
   ],
   "source": [
    "\"\"\" Demo of node classification \"\"\"\n",
    "import sys\n",
    "sys.path.append('/Users/krishnanraghavan/Documents/Projects/Poseidon/graph_nn_2')\n",
    "\n",
    "import numpy as np\n",
    "import random\n",
    "import torch\n",
    "import torch.nn.functional as F\n",
    "from torch.nn import Linear, ModuleList, ReLU, Tanh, Sequential, ELU\n",
    "from torch_geometric.nn import GCNConv, GATConv\n",
    "\n",
    "\n",
    "from psd_gnn.dataset import Merge_PSD_Dataset, PSD_Dataset\n",
    "# from psd_gnn.models.node_classifier import GNN\n",
    "from psd_gnn.utils import process_args\n",
    "from sklearn.metrics import (accuracy_score, confusion_matrix, f1_score, precision_score, roc_auc_score,\n",
    "                             recall_score)\n",
    "from torch.nn import CrossEntropyLoss\n",
    "from datetime import datetime\n",
    "from tqdm import tqdm\n",
    "from torch.utils.tensorboard import SummaryWriter\n",
    "\n",
    "from torch.distributions import Gumbel as G\n",
    "torch.manual_seed(0)"
   ]
  },
  {
   "cell_type": "code",
   "execution_count": null,
   "id": "bc5fc79a",
   "metadata": {
    "scrolled": true
   },
   "outputs": [],
   "source": []
  },
  {
   "cell_type": "code",
   "execution_count": 23,
   "id": "905b619c",
   "metadata": {
    "scrolled": true
   },
   "outputs": [],
   "source": [
    "class GNN(torch.nn.Module):\n",
    "    def __init__(self,\n",
    "                 n_node_features: int,\n",
    "                 n_hidden: int,\n",
    "                 n_output: int,\n",
    "                 n_conv_blocks: int = 1,\n",
    "                 dropout:float = 0.7) -> None:\n",
    "        \"\"\" Init the GNN model (new version).\n",
    "\n",
    "        Args:\n",
    "            n_node_features (int): Number of features at node level.\n",
    "            n_hidden (int): Number of hidden dimension.\n",
    "            n_output (int): number of output dimension\n",
    "            n_conv_blocks (int): Number of\n",
    "        \"\"\"\n",
    "        # super class the class structure\n",
    "        super().__init__()\n",
    "\n",
    "        # add the ability to add one or more conv layers\n",
    "        conv_blocks = []\n",
    "\n",
    "        # ability to  add one or more conv blocks\n",
    "        for _ in range(n_conv_blocks):\n",
    "            conv_blocks += [\n",
    "                GCNConv(n_node_features, n_hidden),\n",
    "               ReLU(),\n",
    "                GCNConv(n_hidden, n_hidden),\n",
    "                ReLU(),\n",
    "            ]\n",
    "            # REVIEW: with attention layers\n",
    "            # conv_blocks += [\n",
    "            #     GATConv(n_node_features, 8, heads=8, dropout=0.5),\n",
    "            #     ELU(),\n",
    "            #     GATConv(8 * 8, n_hidden, heads=1, concat=False, dropout=0.5),\n",
    "            # ]\n",
    "        # group all the conv layers\n",
    "        self.conv_layers = ModuleList(conv_blocks)\n",
    "        self.dropout = dropout\n",
    "\n",
    "        # add the linear layers for flattening the output from MPNN\n",
    "        self.summary_statistics = Sequential(\n",
    "            Linear(n_hidden, n_hidden),\n",
    "            ReLU(),\n",
    "            Linear(n_hidden, n_output),\n",
    "        )\n",
    "\n",
    "        self.dist = G(torch.tensor([1.0]), torch.tensor([0.5]))\n",
    "        self.loss = torch.nn.BCEWithLogitsLoss()\n",
    "\n",
    "\n",
    "    def forward(self,\n",
    "                x: torch.Tensor,\n",
    "                edge_index: torch.Tensor) -> torch.Tensor:\n",
    "        \"\"\" Processing the GNN model.\n",
    "\n",
    "        Args:\n",
    "            x (torch.Tensor): Input features at node level.\n",
    "            edge_index (torch.Tensor): Index pairs of vertices\n",
    "\n",
    "        Returns:\n",
    "            torch.Tensor: output tensor.\n",
    "        \"\"\"\n",
    "        # process the layers\n",
    "        for layer in self.conv_layers:\n",
    "            if isinstance(layer, GCNConv) or isinstance(layer, GATConv):\n",
    "                x = layer(x, edge_index)\n",
    "            else:\n",
    "                x = layer(x)\n",
    "        x = F.dropout(x, p=self.dropout, training=self.training)\n",
    "        out   = self.summary_statistics(x)\n",
    "        return out# pass the output to the linear output layer\n",
    "    \n",
    "    def loss_func(self, y, out):\n",
    "        loss_cross_entropy = self.loss(out, y.float())\n",
    "        sample =self.dist.log_prob(self.dist.sample_n( out.size(0)).squeeze(1))\n",
    "        out = torch.sigmoid(out)\n",
    "        KLD = torch.sum(out * sample, dim=-1).mean()\n",
    "        # loss_extreme = -1*torch.mean(out- sample -torch.mul(out, torch.log( out/(sample) ) ) )\n",
    "        return KLD"
   ]
  },
  {
   "cell_type": "code",
   "execution_count": 24,
   "id": "37948f82",
   "metadata": {
    "scrolled": false
   },
   "outputs": [
    {
     "name": "stdout",
     "output_type": "stream",
     "text": [
      "24 1\n"
     ]
    }
   ],
   "source": [
    "from psd_gnn.dataset_v2 import PSD_Dataset\n",
    "import matplotlib.pyplot as plt\n",
    "from torch.optim.lr_scheduler import ReduceLROnPlateau\n",
    "\n",
    "random.seed(0)\n",
    "torch.manual_seed(0)\n",
    "np.random.seed(0)\n",
    "DEVICE = torch.device(\"cpu\")\n",
    "dataset = Merge_PSD_Dataset(node_level=True, binary_labels=True).shuffle()\n",
    "dataset[0].y[dataset[0].y> 0 ] =  1\n",
    "\n",
    "data = dataset[0]\n",
    "n_nodes = data.num_nodes\n",
    "NUM_NODE_FEATURES = dataset.num_node_features\n",
    "NUM_OUT_FEATURES = 1\n",
    "print(NUM_NODE_FEATURES, NUM_OUT_FEATURES)\n"
   ]
  },
  {
   "cell_type": "code",
   "execution_count": 5,
   "id": "664863b1",
   "metadata": {
    "scrolled": true
   },
   "outputs": [
    {
     "name": "stderr",
     "output_type": "stream",
     "text": [
      "all:  30%|▎| 148/500 [00:30<01:13,  4.80it/s, train_loss=-73312.63, train_acc=0.\n"
     ]
    },
    {
     "ename": "KeyboardInterrupt",
     "evalue": "",
     "output_type": "error",
     "traceback": [
      "\u001b[0;31m---------------------------------------------------------------------------\u001b[0m",
      "\u001b[0;31mKeyboardInterrupt\u001b[0m                         Traceback (most recent call last)",
      "Input \u001b[0;32mIn [5]\u001b[0m, in \u001b[0;36m<cell line: 9>\u001b[0;34m()\u001b[0m\n\u001b[1;32m     12\u001b[0m y_hat \u001b[38;5;241m=\u001b[39m model(data\u001b[38;5;241m.\u001b[39mx, data\u001b[38;5;241m.\u001b[39medge_index)\u001b[38;5;241m.\u001b[39msqueeze()\n\u001b[1;32m     13\u001b[0m train_loss \u001b[38;5;241m=\u001b[39m model\u001b[38;5;241m.\u001b[39mloss_func(data\u001b[38;5;241m.\u001b[39my[data\u001b[38;5;241m.\u001b[39mtrain_mask], y_hat[data\u001b[38;5;241m.\u001b[39mtrain_mask])\n\u001b[0;32m---> 14\u001b[0m \u001b[43mtrain_loss\u001b[49m\u001b[38;5;241;43m.\u001b[39;49m\u001b[43mbackward\u001b[49m\u001b[43m(\u001b[49m\u001b[43m)\u001b[49m\n\u001b[1;32m     15\u001b[0m optimizer\u001b[38;5;241m.\u001b[39mstep()\n\u001b[1;32m     16\u001b[0m train_lab \u001b[38;5;241m=\u001b[39m torch\u001b[38;5;241m.\u001b[39msigmoid(y_hat[data\u001b[38;5;241m.\u001b[39mtrain_mask])\u001b[38;5;241m.\u001b[39mdetach()\u001b[38;5;241m.\u001b[39mcpu()\u001b[38;5;241m.\u001b[39mnumpy()\n",
      "File \u001b[0;32m~/miniforge3/envs/m1_ML/lib/python3.8/site-packages/torch/_tensor.py:396\u001b[0m, in \u001b[0;36mTensor.backward\u001b[0;34m(self, gradient, retain_graph, create_graph, inputs)\u001b[0m\n\u001b[1;32m    387\u001b[0m \u001b[38;5;28;01mif\u001b[39;00m has_torch_function_unary(\u001b[38;5;28mself\u001b[39m):\n\u001b[1;32m    388\u001b[0m     \u001b[38;5;28;01mreturn\u001b[39;00m handle_torch_function(\n\u001b[1;32m    389\u001b[0m         Tensor\u001b[38;5;241m.\u001b[39mbackward,\n\u001b[1;32m    390\u001b[0m         (\u001b[38;5;28mself\u001b[39m,),\n\u001b[0;32m   (...)\u001b[0m\n\u001b[1;32m    394\u001b[0m         create_graph\u001b[38;5;241m=\u001b[39mcreate_graph,\n\u001b[1;32m    395\u001b[0m         inputs\u001b[38;5;241m=\u001b[39minputs)\n\u001b[0;32m--> 396\u001b[0m \u001b[43mtorch\u001b[49m\u001b[38;5;241;43m.\u001b[39;49m\u001b[43mautograd\u001b[49m\u001b[38;5;241;43m.\u001b[39;49m\u001b[43mbackward\u001b[49m\u001b[43m(\u001b[49m\u001b[38;5;28;43mself\u001b[39;49m\u001b[43m,\u001b[49m\u001b[43m \u001b[49m\u001b[43mgradient\u001b[49m\u001b[43m,\u001b[49m\u001b[43m \u001b[49m\u001b[43mretain_graph\u001b[49m\u001b[43m,\u001b[49m\u001b[43m \u001b[49m\u001b[43mcreate_graph\u001b[49m\u001b[43m,\u001b[49m\u001b[43m \u001b[49m\u001b[43minputs\u001b[49m\u001b[38;5;241;43m=\u001b[39;49m\u001b[43minputs\u001b[49m\u001b[43m)\u001b[49m\n",
      "File \u001b[0;32m~/miniforge3/envs/m1_ML/lib/python3.8/site-packages/torch/autograd/__init__.py:173\u001b[0m, in \u001b[0;36mbackward\u001b[0;34m(tensors, grad_tensors, retain_graph, create_graph, grad_variables, inputs)\u001b[0m\n\u001b[1;32m    168\u001b[0m     retain_graph \u001b[38;5;241m=\u001b[39m create_graph\n\u001b[1;32m    170\u001b[0m \u001b[38;5;66;03m# The reason we repeat same the comment below is that\u001b[39;00m\n\u001b[1;32m    171\u001b[0m \u001b[38;5;66;03m# some Python versions print out the first line of a multi-line function\u001b[39;00m\n\u001b[1;32m    172\u001b[0m \u001b[38;5;66;03m# calls in the traceback and some print out the last line\u001b[39;00m\n\u001b[0;32m--> 173\u001b[0m \u001b[43mVariable\u001b[49m\u001b[38;5;241;43m.\u001b[39;49m\u001b[43m_execution_engine\u001b[49m\u001b[38;5;241;43m.\u001b[39;49m\u001b[43mrun_backward\u001b[49m\u001b[43m(\u001b[49m\u001b[43m  \u001b[49m\u001b[38;5;66;43;03m# Calls into the C++ engine to run the backward pass\u001b[39;49;00m\n\u001b[1;32m    174\u001b[0m \u001b[43m    \u001b[49m\u001b[43mtensors\u001b[49m\u001b[43m,\u001b[49m\u001b[43m \u001b[49m\u001b[43mgrad_tensors_\u001b[49m\u001b[43m,\u001b[49m\u001b[43m \u001b[49m\u001b[43mretain_graph\u001b[49m\u001b[43m,\u001b[49m\u001b[43m \u001b[49m\u001b[43mcreate_graph\u001b[49m\u001b[43m,\u001b[49m\u001b[43m \u001b[49m\u001b[43minputs\u001b[49m\u001b[43m,\u001b[49m\n\u001b[1;32m    175\u001b[0m \u001b[43m    \u001b[49m\u001b[43mallow_unreachable\u001b[49m\u001b[38;5;241;43m=\u001b[39;49m\u001b[38;5;28;43;01mTrue\u001b[39;49;00m\u001b[43m,\u001b[49m\u001b[43m \u001b[49m\u001b[43maccumulate_grad\u001b[49m\u001b[38;5;241;43m=\u001b[39;49m\u001b[38;5;28;43;01mTrue\u001b[39;49;00m\u001b[43m)\u001b[49m\n",
      "\u001b[0;31mKeyboardInterrupt\u001b[0m: "
     ]
    }
   ],
   "source": [
    "''' Build GNN model '''\n",
    "model = GNN(NUM_NODE_FEATURES, 64, NUM_OUT_FEATURES).to(DEVICE)\n",
    "optimizer = torch.optim.Adam(model.parameters(), lr=1e-03)\n",
    "scheduler = ReduceLROnPlateau(optimizer, 'min')\n",
    "\n",
    "ts_start = datetime.now().strftime('%Y%m%d_%H%M%S')\n",
    "pbar = tqdm(range(500), desc=f\"all\")\n",
    "best = 0\n",
    "for e in pbar:\n",
    "    model.train()\n",
    "    optimizer.zero_grad()\n",
    "    y_hat = model(data.x, data.edge_index).squeeze()\n",
    "    train_loss = model.loss_func(data.y[data.train_mask], y_hat[data.train_mask])\n",
    "    train_loss.backward()\n",
    "    optimizer.step()\n",
    "    train_lab = torch.sigmoid(y_hat[data.train_mask]).detach().cpu().numpy()\n",
    "    train_lab[train_lab<0.75] = 0\n",
    "    train_lab[train_lab>=0.75] = 1\n",
    "    train_acc = accuracy_score(data.y[data.train_mask].detach().cpu().numpy(), train_lab) \n",
    "    val_y_true = data.y[data.val_mask].detach().cpu().numpy()\n",
    "    val_y_pred = torch.sigmoid(y_hat[data.val_mask]).detach().cpu().numpy()\n",
    "    val_y_pred[val_y_pred<0.75] = 0 \n",
    "    val_y_pred[val_y_pred>=0.75] = 1\n",
    "    val_acc = accuracy_score(val_y_true, val_y_pred)\n",
    "    \n",
    "    \n",
    "    pbar.set_postfix({\"train_loss\": train_loss.detach().numpy(),\n",
    "                      \"train_acc\": train_acc,\n",
    "                      \"val_acc\": val_acc})\n",
    "    scheduler.step(train_loss)\n",
    "    \n",
    "    \n",
    "#     if e%100==0:\n",
    "#         actual_Data =  model.dist.log_prob(model.dist.sample_n( 10000 ))\n",
    "#         args = np.argsort(actual_Data.squeeze(1).detach().numpy() )\n",
    "#         actual_Data = actual_Data[args].squeeze(1).detach().numpy()\n",
    "#         x, bins, p = plt.hist(torch.sigmoid(y_hat).detach().numpy(), color='orange', density=True)\n",
    "#         # _,_,_ = plt.hist(actual_Data, bins, color='blue', alpha=0.1, density=True)\n",
    "#         for item in p:\n",
    "#             item.set_height(item.get_height()/sum(x))\n",
    "        \n",
    "#         # plt.xlim([0,1])\n",
    "#         # plt.ylim([0,1])\n",
    "#         plt.show()"
   ]
  },
  {
   "cell_type": "code",
   "execution_count": null,
   "id": "fc20336c",
   "metadata": {
    "scrolled": false
   },
   "outputs": [],
   "source": [
    "## The final training metrics\n",
    "ys = []\n",
    "train_acc, y_pred = test(model, train_loader)\n",
    "for data in train_loader:\n",
    "    # ys.append(data.y.item())\n",
    "    ys += data.y.detach().cpu().numpy().tolist()\n",
    "y_true = ys\n",
    "print(confusion_matrix(y_true, y_pred))\n",
    "\n",
    "test_acc, y_pred = test(model, test_loader)\n",
    "\n",
    "y_true = []\n",
    "for data in test_loader:\n",
    "    y_true += data.y.detach().cpu().numpy().tolist()\n",
    "\n",
    "print(np.unique(y_pred, return_counts=True), \\\n",
    "     \"real\", np.unique(y_true, return_counts=True) )\n",
    "\n",
    "conf_mat = confusion_matrix(y_true, y_pred)\n",
    "prec_val = precision_score(y_true, y_pred)\n",
    "f1_val = f1_score(y_true, y_pred)\n",
    "recall_val = recall_score(y_true, y_pred)\n",
    "\n",
    "\n",
    "print(\"graph level clf:\",\n",
    "      f\"workflow all\",\n",
    "      f\"binary True\",\n",
    "      f\"test acc {test_acc:.4f}\",\n",
    "      f\"f1 {f1_val:.4f}\",\n",
    "      f\"recall {recall_val:.4f}\",\n",
    "      f\"prec {prec_val:.4f}\",\n",
    "      )\n",
    "print(conf_mat)"
   ]
  },
  {
   "cell_type": "code",
   "execution_count": null,
   "id": "71d70198",
   "metadata": {
    "scrolled": false
   },
   "outputs": [],
   "source": []
  },
  {
   "cell_type": "code",
   "execution_count": null,
   "id": "0c8044ff",
   "metadata": {
    "scrolled": true
   },
   "outputs": [],
   "source": []
  },
  {
   "cell_type": "code",
   "execution_count": null,
   "id": "dfa25ed4",
   "metadata": {
    "scrolled": true
   },
   "outputs": [],
   "source": []
  },
  {
   "cell_type": "code",
   "execution_count": null,
   "id": "64f2bad6",
   "metadata": {
    "scrolled": true
   },
   "outputs": [],
   "source": []
  },
  {
   "cell_type": "code",
   "execution_count": null,
   "id": "d5d8d08f",
   "metadata": {
    "scrolled": true
   },
   "outputs": [],
   "source": []
  },
  {
   "cell_type": "code",
   "execution_count": null,
   "id": "d71fb3cd",
   "metadata": {
    "scrolled": true
   },
   "outputs": [],
   "source": []
  },
  {
   "cell_type": "code",
   "execution_count": null,
   "id": "9a6b7213",
   "metadata": {
    "scrolled": true
   },
   "outputs": [],
   "source": []
  },
  {
   "cell_type": "code",
   "execution_count": null,
   "id": "87efa63d",
   "metadata": {
    "scrolled": true
   },
   "outputs": [],
   "source": [
    "## The Graph Model"
   ]
  },
  {
   "cell_type": "code",
   "execution_count": 25,
   "id": "24fb3ede",
   "metadata": {
    "scrolled": true
   },
   "outputs": [
    {
     "data": {
      "text/plain": [
       "<torch._C.Generator at 0x10713d150>"
      ]
     },
     "execution_count": 25,
     "metadata": {},
     "output_type": "execute_result"
    }
   ],
   "source": [
    "\"\"\" Demo of node classification \"\"\"\n",
    "import numpy as np\n",
    "import random\n",
    "import torch\n",
    "import torch.nn.functional as F\n",
    "from torch.nn import Linear, ModuleList, ReLU, Tanh, Sequential, ELU\n",
    "\n",
    "from psd_gnn.utils import process_args\n",
    "from sklearn.metrics import (accuracy_score, confusion_matrix, f1_score, precision_score, roc_auc_score,\n",
    "                             recall_score)\n",
    "from torch.nn import CrossEntropyLoss\n",
    "from datetime import datetime\n",
    "from tqdm import tqdm\n",
    "from torch.utils.tensorboard import SummaryWriter\n",
    "\n",
    "from torch.distributions import Gumbel as G\n",
    "torch.manual_seed(0)"
   ]
  },
  {
   "cell_type": "code",
   "execution_count": 26,
   "id": "1240abba",
   "metadata": {
    "scrolled": true
   },
   "outputs": [
    {
     "name": "stdout",
     "output_type": "stream",
     "text": [
      "torch.Size([40000, 24]) torch.Size([40000])\n",
      "tensor([[-1.1258, -1.1524, -0.2506,  ..., -1.5551, -0.3414,  1.8530],\n",
      "        [ 0.7502, -0.5855, -0.1734,  ...,  2.3022, -1.4689, -1.5867],\n",
      "        [-0.6731,  0.8728,  1.0554,  ...,  2.5672, -0.4731,  0.3356],\n",
      "        ...,\n",
      "        [-0.2087, -0.3192,  0.6482,  ...,  1.8107, -0.1552, -0.8880],\n",
      "        [ 2.1366,  1.3186, -0.9975,  ...,  1.0791, -0.8915,  1.0632],\n",
      "        [ 0.9393,  0.7477, -1.5297,  ...,  1.1215,  0.5136, -0.9894]])\n"
     ]
    }
   ],
   "source": [
    "## Generate data from a Gumbel distribution\n",
    "data_sample_1 = torch.normal(0, 1, [20000, 24]).squeeze(0)\n",
    "data_sample_2 = torch.normal(0, 1.1, [20000, 24]).squeeze(0)\n",
    "data = torch.cat([data_sample_1, data_sample_2], axis=0)\n",
    "y = torch.cat([torch.zeros(data_sample_1.size(0)), torch.zeros(data_sample_2.size(0))], axis=0)\n",
    "print(data.shape, y.shape)\n",
    "print(data)"
   ]
  },
  {
   "cell_type": "code",
   "execution_count": 27,
   "id": "cab89734",
   "metadata": {
    "scrolled": true
   },
   "outputs": [
    {
     "name": "stdout",
     "output_type": "stream",
     "text": [
      "torch.Size([4000, 24]) torch.Size([4000])\n"
     ]
    }
   ],
   "source": [
    "## Generate data from a Gumbel distribution\n",
    "data_sample_1 = torch.normal(0,1, [2000, 24]).squeeze(0)\n",
    "data_sample_2 = torch.normal(0,2, [2000, 24]).squeeze(0)\n",
    "test = torch.cat([data_sample_1, data_sample_2], axis=0)\n",
    "yt = torch.zeros(test.size(0))\n",
    "print(test.size(), yt.size())"
   ]
  },
  {
   "cell_type": "code",
   "execution_count": 28,
   "id": "54b4976a",
   "metadata": {
    "scrolled": true
   },
   "outputs": [
    {
     "name": "stdout",
     "output_type": "stream",
     "text": [
      "<torch.utils.data.dataloader.DataLoader object at 0x2cce32ca0>\n"
     ]
    }
   ],
   "source": [
    "from torch.utils.data import Dataset, DataLoader\n",
    "class Continual_Dataset(Dataset):\n",
    "    def __init__(self, data_x, data_y):\n",
    "        self.x  = data_x\n",
    "        self.y  = data_y\n",
    "\n",
    "    # A function to define the length of the problem\n",
    "    def __len__(self):\n",
    "        return self.x.shape[0]\n",
    "\n",
    "    # A function to get samples\n",
    "    def __getitem__(self, idx):\n",
    "        if torch.is_tensor(idx):\n",
    "            idx = idx.tolist()\n",
    "            \n",
    "        x_=  self.x[idx,:]\n",
    "        y_=  self.y[idx]\n",
    "        \n",
    "        sample = {'x': x_, 'y': y_}\n",
    "        return sample\n",
    "    \n",
    "dataset = Continual_Dataset(data, y)\n",
    "dataloader = DataLoader(dataset, batch_size= 64,\\\n",
    "                        shuffle=True, num_workers=0)\n",
    "print(dataloader)\n",
    "def numpy_sigmoid(x):\n",
    "    return 1/(1 + np.exp(-x))"
   ]
  },
  {
   "cell_type": "code",
   "execution_count": 29,
   "id": "661e0c94",
   "metadata": {
    "scrolled": true
   },
   "outputs": [],
   "source": [
    "class Net(torch.nn.Module):\n",
    "\n",
    "    def __init__(self, n_hidden=256, n_output=1):\n",
    "        super(Net, self).__init__()\n",
    "        # add the linear layers for flattening the output from MPNN\n",
    "        self.summary_statistics = Sequential(\n",
    "            Linear(24, n_hidden),\n",
    "            ReLU(),\n",
    "            Linear(n_hidden, n_hidden),\n",
    "            ReLU(),\n",
    "            Linear(n_hidden, n_output),\n",
    "        )\n",
    "\n",
    "        self.dist = G(torch.tensor([1.0]), torch.tensor([0.2]))\n",
    "        # self.loss = torch.nn.BCEWithLogitsLoss()\n",
    "        \n",
    "    \n",
    "    def forward(self, x):\n",
    "        # print(x.shape)\n",
    "        # Max pooling over a (2, 2) window\n",
    "        return self.summary_statistics(x)\n",
    "    \n",
    "    def loss_func(self, y, out):\n",
    "        # loss_cross_entropy = self.loss(out, y.float())\n",
    "        sample =self.dist.log_prob(self.dist.sample_n( out.size(0)).squeeze(1)).exp()\n",
    "        out = torch.sigmoid(out)\n",
    "        loss_extreme = -1*torch.mean(out- sample -torch.mul(out, torch.log( out/(sample+1e-10) ) ) )\n",
    "        return loss_extreme"
   ]
  },
  {
   "cell_type": "code",
   "execution_count": 31,
   "id": "98339938",
   "metadata": {
    "scrolled": true
   },
   "outputs": [
    {
     "name": "stderr",
     "output_type": "stream",
     "text": [
      "all:   0%|                          | 0/50 [00:00<?, ?it/s, train_loss=0.266884]"
     ]
    },
    {
     "data": {
      "image/png": "[encoded data removed]",
      "text/plain": [
       "<Figure size 432x288 with 2 Axes>"
      ]
     },
     "metadata": {
      "needs_background": "light"
     },
     "output_type": "display_data"
    },
    {
     "name": "stderr",
     "output_type": "stream",
     "text": [
      "all:  20%|███▏            | 10/50 [00:06<00:22,  1.75it/s, train_loss=0.1747602]"
     ]
    },
    {
     "data": {
      "image/png": "[encoded data removed]",
      "text/plain": [
       "<Figure size 432x288 with 2 Axes>"
      ]
     },
     "metadata": {
      "needs_background": "light"
     },
     "output_type": "display_data"
    },
    {
     "name": "stderr",
     "output_type": "stream",
     "text": [
      "all:  40%|██████         | 20/50 [00:12<00:16,  1.78it/s, train_loss=0.24296632]"
     ]
    },
    {
     "data": {
      "image/png": "[encoded data removed]",
      "text/plain": [
       "<Figure size 432x288 with 2 Axes>"
      ]
     },
     "metadata": {
      "needs_background": "light"
     },
     "output_type": "display_data"
    },
    {
     "name": "stderr",
     "output_type": "stream",
     "text": [
      "all:  60%|█████████      | 30/50 [00:18<00:11,  1.72it/s, train_loss=0.15838504]"
     ]
    },
    {
     "data": {
      "image/png": "[encoded data removed]",
      "text/plain": [
       "<Figure size 432x288 with 2 Axes>"
      ]
     },
     "metadata": {
      "needs_background": "light"
     },
     "output_type": "display_data"
    },
    {
     "name": "stderr",
     "output_type": "stream",
     "text": [
      "all:  80%|████████████   | 40/50 [00:24<00:06,  1.66it/s, train_loss=0.15865405]"
     ]
    },
    {
     "data": {
      "image/png": "[encoded data removed]",
      "text/plain": [
       "<Figure size 432x288 with 2 Axes>"
      ]
     },
     "metadata": {
      "needs_background": "light"
     },
     "output_type": "display_data"
    },
    {
     "name": "stderr",
     "output_type": "stream",
     "text": [
      "all: 100%|███████████████| 50/50 [00:29<00:00,  1.70it/s, train_loss=0.13790627]\n"
     ]
    }
   ],
   "source": [
    "import matplotlib.pyplot as plt\n",
    "from torch.optim.lr_scheduler import ReduceLROnPlateau\n",
    "''' Build GNN model '''\n",
    "model = Net()\n",
    "optimizer = torch.optim.Adam(model.parameters(), lr=1e-05)\n",
    "scheduler = ReduceLROnPlateau(optimizer, 'min')\n",
    "ts_start = datetime.now().strftime('%Y%m%d_%H%M%S')\n",
    "best = 0\n",
    "model.train()\n",
    "\n",
    "with tqdm(range(50), desc=f\"all\") as pbar:\n",
    "    for e in pbar:\n",
    "        for (idx,batch) in enumerate(dataloader):\n",
    "            x_b = batch['x']\n",
    "            y_b = batch['y']\n",
    "            # print(x_b, y_b)\n",
    "            optimizer.zero_grad()\n",
    "            y_hat = model(x_b).squeeze()\n",
    "            train_loss = model.loss_func(y_b, y_hat)\n",
    "            train_loss.backward()\n",
    "            optimizer.step()\n",
    "            \n",
    "            \n",
    "            \n",
    "        pbar.set_postfix({\"train_loss\": train_loss.detach().numpy()})\n",
    "        scheduler.step(train_loss)\n",
    "\n",
    "        if e%10==0:\n",
    "\n",
    "            y_hat = model(test).squeeze()\n",
    "            actual_Data =  model.dist.log_prob(model.dist.sample_n( 100000 )).exp()\n",
    "            args = np.argsort(actual_Data.squeeze(1).detach().numpy() )\n",
    "            actual_Data = actual_Data[args].squeeze(1).detach().numpy()\n",
    "            fig, axs = plt.subplots(2)\n",
    "            _, _, _ = axs[0].hist(torch.sigmoid(y_hat).detach().numpy(), color='tab:orange', density=True)\n",
    "            _,_,_ = axs[1].hist(numpy_sigmoid(actual_Data), color='tab:blue', density=True)\n",
    "            plt.show()\n",
    "            plt.close"
   ]
  },
  {
   "cell_type": "code",
   "execution_count": 38,
   "id": "c3067b8d",
   "metadata": {
    "scrolled": true
   },
   "outputs": [
    {
     "name": "stdout",
     "output_type": "stream",
     "text": [
      "torch.Size([4000, 24]) torch.Size([4000])\n"
     ]
    },
    {
     "data": {
      "image/png": "[encoded data removed]",
      "text/plain": [
       "<Figure size 648x1008 with 5 Axes>"
      ]
     },
     "metadata": {
      "needs_background": "light"
     },
     "output_type": "display_data"
    }
   ],
   "source": [
    "## Generate data from a Gumbel distribution\n",
    "data_sample_1 = torch.normal(0,0.1, [20000, 24]).squeeze(0)\n",
    "data_sample_2 = torch.normal(0,0.3,\\\n",
    "                             [20000, 24]).squeeze(0)\n",
    "data_sample_3 = torch.normal(0,0.5,\\\n",
    "                             [20000, 24]).squeeze(0)\n",
    "data_sample_4 = torch.normal(0,0.7,\\\n",
    "                             [20000, 24]).squeeze(0)\n",
    "\n",
    "yt = torch.zeros(test.size(0))\n",
    "print(test.size(), yt.size())\n",
    "\n",
    "data= torch.cat([data_sample_1, data_sample_2, data_sample_3, data_sample_4])\n",
    "actual_Data =  model.dist.log_prob(model.dist.sample_n( 10000 )).exp()\n",
    "args = np.argsort(actual_Data.squeeze(1).detach().numpy() )\n",
    "actual_Data = actual_Data[args].squeeze(1).detach().numpy()\n",
    "\n",
    "fig, axs = plt.subplots(5, figsize=(9, 14))\n",
    "y_hat = model(data_sample_1).squeeze()\n",
    "_, bins, _ = axs[0].hist(torch.sigmoid(y_hat).detach().numpy(), color='tab:orange',  density=True)\n",
    "axs[0].set_title('$\\\\sigma = 0.1$')\n",
    "axs[0].set_xlim([0.9,1])\n",
    "y_hat = model(data_sample_2).squeeze()\n",
    "_, _, _ = axs[1].hist(torch.sigmoid(y_hat).detach().numpy(),  color='tab:red', density=True)\n",
    "axs[1].set_title('$\\\\sigma = 0.3$')\n",
    "axs[1].set_xlim([0.9,1])\n",
    "y_hat = model(data_sample_3).squeeze()\n",
    "_, _, _ = axs[2].hist(torch.sigmoid(y_hat).detach().numpy(),  color='tab:cyan', density=True)\n",
    "axs[2].set_title('$\\\\sigma = 0.5$')\n",
    "axs[2].set_xlim([0.9,1])\n",
    "y_hat = model(data_sample_4).squeeze()\n",
    "_, _, _ = axs[3].hist(torch.sigmoid(y_hat).detach().numpy(), color='tab:green',density=True)\n",
    "axs[3].set_title('$\\\\sigma = 0.7$')\n",
    "axs[3].set_xlim([0.9,1])\n",
    "\n",
    "y_hat = model(data).squeeze()\n",
    "_,_,_ = axs[4].hist(torch.sigmoid(y_hat).detach().numpy(), color='tab:blue', density=True)\n",
    "axs[4].set_title('Overall data')\n",
    "\n",
    "#plt.xlim([0.8,1])\n",
    "#plt.ylim([0,1])\n",
    "plt.show()"
   ]
  },
  {
   "cell_type": "code",
   "execution_count": null,
   "id": "90119b6d",
   "metadata": {
    "scrolled": true
   },
   "outputs": [],
   "source": []
  },
  {
   "cell_type": "code",
   "execution_count": null,
   "id": "6fc8890b",
   "metadata": {
    "scrolled": true
   },
   "outputs": [],
   "source": []
  },
  {
   "cell_type": "code",
   "execution_count": null,
   "id": "e7521bd1",
   "metadata": {
    "scrolled": true
   },
   "outputs": [],
   "source": []
  },
  {
   "cell_type": "code",
   "execution_count": null,
   "id": "4f287bd8",
   "metadata": {
    "scrolled": true
   },
   "outputs": [],
   "source": []
  },
  {
   "cell_type": "code",
   "execution_count": 13,
   "id": "a7c01e48",
   "metadata": {
    "scrolled": true
   },
   "outputs": [],
   "source": [
    "## Now the network"
   ]
  },
  {
   "cell_type": "code",
   "execution_count": 39,
   "id": "dece7906",
   "metadata": {
    "scrolled": false
   },
   "outputs": [
    {
     "data": {
      "text/plain": [
       "<torch._C.Generator at 0x10713d150>"
      ]
     },
     "execution_count": 39,
     "metadata": {},
     "output_type": "execute_result"
    }
   ],
   "source": [
    "\"\"\" Demo of node classification \"\"\"\n",
    "import sys\n",
    "sys.path.append('/Users/krishnanraghavan/Documents/Projects/Poseidon/graph_nn_2')\n",
    "\n",
    "import numpy as np\n",
    "import random\n",
    "import torch\n",
    "import torch.nn.functional as F\n",
    "from torch.nn import Linear, ModuleList, ReLU, Tanh, Sequential, ELU\n",
    "from torch_geometric.nn import GCNConv, GATConv\n",
    "\n",
    "\n",
    "from psd_gnn.dataset import Merge_PSD_Dataset, PSD_Dataset\n",
    "# from psd_gnn.models.node_classifier import GNN\n",
    "from psd_gnn.utils import process_args\n",
    "from sklearn.metrics import (accuracy_score, confusion_matrix, f1_score, precision_score, roc_auc_score,\n",
    "                             recall_score)\n",
    "from torch.nn import CrossEntropyLoss\n",
    "from datetime import datetime\n",
    "from tqdm import tqdm\n",
    "from torch.utils.tensorboard import SummaryWriter\n",
    "\n",
    "from torch.distributions import Gumbel as G\n",
    "torch.manual_seed(0)"
   ]
  },
  {
   "cell_type": "code",
   "execution_count": 40,
   "id": "a21f9e51",
   "metadata": {
    "scrolled": true
   },
   "outputs": [],
   "source": [
    "class GNN(torch.nn.Module):\n",
    "    def __init__(self,\n",
    "                 n_node_features: int,\n",
    "                 n_hidden: int,\n",
    "                 n_output: int,\n",
    "                 n_conv_blocks: int = 1,\n",
    "                 dropout:float = 0.7) -> None:\n",
    "        \"\"\" Init the GNN model (new version).\n",
    "\n",
    "        Args:\n",
    "            n_node_features (int): Number of features at node level.\n",
    "            n_hidden (int): Number of hidden dimension.\n",
    "            n_output (int): number of output dimension\n",
    "            n_conv_blocks (int): Number of\n",
    "        \"\"\"\n",
    "        # super class the class structure\n",
    "        super().__init__()\n",
    "\n",
    "        # add the ability to add one or more conv layers\n",
    "        conv_blocks = []\n",
    "\n",
    "        # ability to  add one or more conv blocks\n",
    "        for _ in range(n_conv_blocks):\n",
    "            conv_blocks += [\n",
    "                GCNConv(n_node_features, n_hidden),\n",
    "               ReLU(),\n",
    "                GCNConv(n_hidden, n_hidden),\n",
    "                ReLU(),\n",
    "            ]\n",
    "            # REVIEW: with attention layers\n",
    "            # conv_blocks += [\n",
    "            #     GATConv(n_node_features, 8, heads=8, dropout=0.5),\n",
    "            #     ELU(),\n",
    "            #     GATConv(8 * 8, n_hidden, heads=1, concat=False, dropout=0.5),\n",
    "            # ]\n",
    "        # group all the conv layers\n",
    "        self.conv_layers = ModuleList(conv_blocks)\n",
    "        self.dropout = dropout\n",
    "\n",
    "        # add the linear layers for flattening the output from MPNN\n",
    "        self.summary_statistics = Sequential(\n",
    "            Linear(n_hidden, n_hidden),\n",
    "            ReLU(),\n",
    "            Linear(n_hidden, n_output),\n",
    "        )\n",
    "\n",
    "        self.dist = G(torch.tensor([1.0]), torch.tensor([0.2]))\n",
    "        self.loss = torch.nn.BCEWithLogitsLoss()\n",
    "\n",
    "\n",
    "    def forward(self,\n",
    "                x: torch.Tensor,\n",
    "                edge_index: torch.Tensor) -> torch.Tensor:\n",
    "        \"\"\" Processing the GNN model.\n",
    "\n",
    "        Args:\n",
    "            x (torch.Tensor): Input features at node level.\n",
    "            edge_index (torch.Tensor): Index pairs of vertices\n",
    "\n",
    "        Returns:\n",
    "            torch.Tensor: output tensor.\n",
    "        \"\"\"\n",
    "        # process the layers\n",
    "        for layer in self.conv_layers:\n",
    "            if isinstance(layer, GCNConv) or isinstance(layer, GATConv):\n",
    "                x = layer(x, edge_index)\n",
    "            else:\n",
    "                x = layer(x)\n",
    "        x = F.dropout(x, p=self.dropout, training=self.training)\n",
    "        out   = self.summary_statistics(x)\n",
    "        return out# pass the output to the linear output layer\n",
    "    \n",
    "    def loss_func(self, y, out):\n",
    "        # loss_cross_entropy = self.loss(out, y.float())\n",
    "        sample =self.dist.log_prob(self.dist.sample_n( out.size(0)).squeeze(1)).exp()\n",
    "        out = torch.sigmoid(out)\n",
    "        loss_extreme = -1*torch.mean(out- sample -torch.mul(out, torch.log( out/(sample) ) ) )\n",
    "        return loss_extreme"
   ]
  },
  {
   "cell_type": "code",
   "execution_count": 53,
   "id": "8c1596ed",
   "metadata": {
    "scrolled": false
   },
   "outputs": [
    {
     "name": "stdout",
     "output_type": "stream",
     "text": [
      "24 1\n"
     ]
    }
   ],
   "source": [
    "from psd_gnn.dataset_v2 import PSD_Dataset\n",
    "import matplotlib.pyplot as plt\n",
    "from torch.optim.lr_scheduler import ReduceLROnPlateau\n",
    "\n",
    "random.seed(0)\n",
    "torch.manual_seed(0)\n",
    "np.random.seed(0)\n",
    "DEVICE = torch.device(\"cpu\")\n",
    "dataset = Merge_PSD_Dataset(node_level=True, binary_labels=True).shuffle()\n",
    "dataset[0].y[dataset[0].y> 0 ] =  1\n",
    "data = dataset[0]\n",
    "\n",
    "n_nodes = data.num_nodes\n",
    "NUM_NODE_FEATURES = dataset.num_node_features\n",
    "NUM_OUT_FEATURES = 1\n",
    "print(NUM_NODE_FEATURES, NUM_OUT_FEATURES)"
   ]
  },
  {
   "cell_type": "code",
   "execution_count": 47,
   "id": "882b2153",
   "metadata": {
    "scrolled": true
   },
   "outputs": [
    {
     "name": "stderr",
     "output_type": "stream",
     "text": [
      "all:   0%| | 0/1000 [00:00<?, ?it/s, train_loss=0.39415258, train_acc=0.187, val"
     ]
    },
    {
     "data": {
      "image/png": "[encoded data removed]",
      "text/plain": [
       "<Figure size 432x288 with 2 Axes>"
      ]
     },
     "metadata": {
      "needs_background": "light"
     },
     "output_type": "display_data"
    },
    {
     "name": "stderr",
     "output_type": "stream",
     "text": [
      "all:  10%| | 100/1000 [00:21<03:06,  4.83it/s, train_loss=0.3497214, train_acc=0"
     ]
    },
    {
     "data": {
      "image/png": "[encoded data removed]",
      "text/plain": [
       "<Figure size 432x288 with 2 Axes>"
      ]
     },
     "metadata": {
      "needs_background": "light"
     },
     "output_type": "display_data"
    },
    {
     "name": "stderr",
     "output_type": "stream",
     "text": [
      "all:  20%|▏| 200/1000 [00:41<02:44,  4.86it/s, train_loss=0.25493976, train_acc="
     ]
    },
    {
     "data": {
      "image/png": "[encoded data removed]",
      "text/plain": [
       "<Figure size 432x288 with 2 Axes>"
      ]
     },
     "metadata": {
      "needs_background": "light"
     },
     "output_type": "display_data"
    },
    {
     "name": "stderr",
     "output_type": "stream",
     "text": [
      "all:  30%|▎| 300/1000 [01:02<02:24,  4.86it/s, train_loss=0.22475338, train_acc="
     ]
    },
    {
     "data": {
      "image/png": "[encoded data removed]",
      "text/plain": [
       "<Figure size 432x288 with 2 Axes>"
      ]
     },
     "metadata": {
      "needs_background": "light"
     },
     "output_type": "display_data"
    },
    {
     "name": "stderr",
     "output_type": "stream",
     "text": [
      "all:  40%|▍| 400/1000 [01:23<02:04,  4.83it/s, train_loss=0.22178236, train_acc="
     ]
    },
    {
     "data": {
      "image/png": "[encoded data removed]",
      "text/plain": [
       "<Figure size 432x288 with 2 Axes>"
      ]
     },
     "metadata": {
      "needs_background": "light"
     },
     "output_type": "display_data"
    },
    {
     "name": "stderr",
     "output_type": "stream",
     "text": [
      "all:  50%|▌| 500/1000 [01:44<01:44,  4.78it/s, train_loss=0.22243786, train_acc="
     ]
    },
    {
     "data": {
      "image/png": "[encoded data removed]",
      "text/plain": [
       "<Figure size 432x288 with 2 Axes>"
      ]
     },
     "metadata": {
      "needs_background": "light"
     },
     "output_type": "display_data"
    },
    {
     "name": "stderr",
     "output_type": "stream",
     "text": [
      "all:  60%|▌| 600/1000 [02:05<01:22,  4.82it/s, train_loss=0.22132517, train_acc="
     ]
    },
    {
     "data": {
      "image/png": "[encoded data removed]",
      "text/plain": [
       "<Figure size 432x288 with 2 Axes>"
      ]
     },
     "metadata": {
      "needs_background": "light"
     },
     "output_type": "display_data"
    },
    {
     "name": "stderr",
     "output_type": "stream",
     "text": [
      "all:  70%|▋| 700/1000 [02:26<01:02,  4.83it/s, train_loss=0.22367205, train_acc="
     ]
    },
    {
     "data": {
      "image/png": "[encoded data removed]",
      "text/plain": [
       "<Figure size 432x288 with 2 Axes>"
      ]
     },
     "metadata": {
      "needs_background": "light"
     },
     "output_type": "display_data"
    },
    {
     "name": "stderr",
     "output_type": "stream",
     "text": [
      "all:  80%|▊| 800/1000 [02:46<00:41,  4.81it/s, train_loss=0.22069575, train_acc="
     ]
    },
    {
     "data": {
      "image/png": "[encoded data removed]",
      "text/plain": [
       "<Figure size 432x288 with 2 Axes>"
      ]
     },
     "metadata": {
      "needs_background": "light"
     },
     "output_type": "display_data"
    },
    {
     "name": "stderr",
     "output_type": "stream",
     "text": [
      "all:  90%|▉| 900/1000 [03:07<00:20,  4.79it/s, train_loss=0.22193013, train_acc="
     ]
    },
    {
     "data": {
      "image/png": "[encoded data removed]",
      "text/plain": [
       "<Figure size 432x288 with 2 Axes>"
      ]
     },
     "metadata": {
      "needs_background": "light"
     },
     "output_type": "display_data"
    },
    {
     "name": "stderr",
     "output_type": "stream",
     "text": [
      "all: 100%|█| 1000/1000 [03:28<00:00,  4.80it/s, train_loss=0.22193529, train_acc\n"
     ]
    }
   ],
   "source": [
    "''' Build GNN model '''\n",
    "model = GNN(NUM_NODE_FEATURES, 64, NUM_OUT_FEATURES).to(DEVICE)\n",
    "optimizer = torch.optim.Adam(model.parameters(), lr=1e-04)\n",
    "scheduler = ReduceLROnPlateau(optimizer, 'min')\n",
    "\n",
    "ts_start = datetime.now().strftime('%Y%m%d_%H%M%S')\n",
    "pbar = tqdm(range(1000), desc=f\"all\")\n",
    "best = 0\n",
    "for e in pbar:\n",
    "    model.train()\n",
    "    optimizer.zero_grad()\n",
    "    y_hat = model(data.x, data.edge_index).squeeze()\n",
    "    train_loss = model.loss_func(data.y[data.train_mask], y_hat[data.train_mask])\n",
    "    train_loss.backward()\n",
    "    optimizer.step()\n",
    "    train_lab = torch.sigmoid(y_hat[data.train_mask]).detach().cpu().numpy()\n",
    "    train_lab[train_lab<0.80] = 0\n",
    "    train_lab[train_lab>=0.80] = 1\n",
    "    train_acc = accuracy_score(data.y[data.train_mask].detach().cpu().numpy(), train_lab) \n",
    "    val_y_true = data.y[data.val_mask].detach().cpu().numpy()\n",
    "    val_y_pred = torch.sigmoid(y_hat[data.val_mask]).detach().cpu().numpy()\n",
    "    val_y_pred[val_y_pred<0.80] = 0 \n",
    "    val_y_pred[val_y_pred>=0.80] = 1\n",
    "    val_acc = accuracy_score(val_y_true, val_y_pred)\n",
    "    \n",
    "    \n",
    "    pbar.set_postfix({\"train_loss\": train_loss.detach().numpy(),\n",
    "                      \"train_acc\": train_acc,\n",
    "                      \"val_acc\": val_acc})\n",
    "    scheduler.step(train_loss)\n",
    "    \n",
    "    \n",
    "    if e%100==0:\n",
    "        actual_Data =  model.dist.log_prob(model.dist.sample_n( 10000 )).exp()\n",
    "        args = np.argsort(actual_Data.squeeze(1).detach().numpy() )\n",
    "        actual_Data = actual_Data[args].squeeze(1).detach().numpy()\n",
    "        fig, axs = plt.subplots(2)\n",
    "        _, _, _ = axs[0].hist(torch.sigmoid(y_hat).detach().numpy(), color='tab:orange', density=True)\n",
    "        _,_,_ = axs[1].hist(numpy_sigmoid(actual_Data), color='tab:blue', density=True)\n",
    "        plt.show()\n",
    "        plt.close"
   ]
  },
  {
   "cell_type": "code",
   "execution_count": 51,
   "id": "2404d07d",
   "metadata": {
    "scrolled": true
   },
   "outputs": [
    {
     "name": "stdout",
     "output_type": "stream",
     "text": [
      "torch.Size([138974, 24]) torch.Size([2, 265346])\n"
     ]
    }
   ],
   "source": [
    "print(data.x.size(), data.edge_index.size())"
   ]
  },
  {
   "cell_type": "code",
   "execution_count": 62,
   "id": "7457df23",
   "metadata": {
    "scrolled": false
   },
   "outputs": [
    {
     "name": "stdout",
     "output_type": "stream",
     "text": [
      "torch.Size([4000, 24]) torch.Size([4000])\n"
     ]
    },
    {
     "data": {
      "image/png": "[encoded data removed]",
      "text/plain": [
       "<Figure size 648x864 with 3 Axes>"
      ]
     },
     "metadata": {
      "needs_background": "light"
     },
     "output_type": "display_data"
    }
   ],
   "source": [
    "## Generate data from a Gumbel distribution\n",
    "data_sample_1 = torch.normal(0,0.1, [138974, 24]).squeeze(0)\n",
    "data_sample_2 = torch.normal(0,0.3,\\\n",
    "                             [138974, 24]).squeeze(0)\n",
    "data_sample_3 = torch.normal(0,0.5,\\\n",
    "                             [138974, 24]).squeeze(0)\n",
    "data_sample_4 = torch.normal(0,0.7,\\\n",
    "                             [138974, 24]).squeeze(0)\n",
    "\n",
    "yt = torch.zeros(test.size(0))\n",
    "print(test.size(), yt.size())\n",
    "\n",
    "datum= torch.cat([data_sample_1, data_sample_2, data_sample_3])\n",
    "\n",
    "\n",
    "fig, axs = plt.subplots(3, figsize=(9, 12))\n",
    "y_hat = model(data_sample_1, data.edge_index).squeeze()\n",
    "_, bins, _ = axs[0].hist(torch.sigmoid(y_hat).detach().numpy(), color='tab:orange',  density=True)\n",
    "axs[0].set_title('Anomalous')\n",
    "# axs[0].set_xlim([0.9,1])\n",
    "y_hat = model(torch.cat([data_sample_2, data_sample_3]), data.edge_index).squeeze()\n",
    "_, _, _ = axs[1].hist(torch.sigmoid(y_hat).detach().numpy(),  color='tab:red', density=True)\n",
    "axs[1].set_title('$Normal$')\n",
    "# axs[1].set_xlim([0.9,1])\n",
    "# y_hat = model(data_sample_3, data.edge_index).squeeze()\n",
    "# _, _, _ = axs[2].hist(torch.sigmoid(y_hat).detach().numpy(),  color='tab:cyan', density=True)\n",
    "# axs[2].set_title('$\\\\sigma = 0.5$')\n",
    "# axs[2].set_xlim([0.9,1])\n",
    "# y_hat = model(data_sample_4, data.edge_index).squeeze()\n",
    "# _, _, _ = axs[3].hist(torch.sigmoid(y_hat).detach().numpy(), color='tab:green',density=True)\n",
    "# axs[3].set_title('$\\\\sigma = 0.7$')\n",
    "# # axs[3].set_xlim([0.9,1])\n",
    "\n",
    "y_hat = model(datum, data.edge_index).squeeze()\n",
    "_,_,_ = axs[2].hist(torch.sigmoid(y_hat).detach().numpy(), color='tab:blue', density=True)\n",
    "axs[2].set_title('Overall data')\n",
    "\n",
    "#plt.xlim([0.8,1])\n",
    "#plt.ylim([0,1])\n",
    "plt.show()"
   ]
  },
  {
   "cell_type": "code",
   "execution_count": null,
   "id": "ba17adf7",
   "metadata": {
    "scrolled": true
   },
   "outputs": [],
   "source": []
  }
 ],
 "metadata": {
  "kernelspec": {
   "display_name": "Python 3 (ipykernel)",
   "language": "python",
   "name": "python3"
  },
  "language_info": {
   "codemirror_mode": {
    "name": "ipython",
    "version": 3
   },
   "file_extension": ".py",
   "mimetype": "text/x-python",
   "name": "python",
   "nbconvert_exporter": "python",
   "pygments_lexer": "ipython3",
   "version": "3.8.13"
  }
 },
 "nbformat": 4,
 "nbformat_minor": 5
}
