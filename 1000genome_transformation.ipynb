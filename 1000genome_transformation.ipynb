{
 "cells": [
  {
   "cell_type": "code",
   "execution_count": 1,
   "metadata": {},
   "outputs": [],
   "source": [
    "import json\n",
    "import glob\n",
    "import os\n",
    "import pandas as pd\n",
    "import numpy as np\n",
    "\n",
    "with open(\"adjacency_list_dags/1000genome.json\", \"r\") as f:\n",
    "    adjacency_list = json.load(f)\n",
    "\n",
    "counter = 0\n",
    "edge_index = []\n",
    "lookup = {}\n",
    "for l in adjacency_list:\n",
    "    lookup[l] = counter\n",
    "    counter+=1\n",
    "\n",
    "for l in adjacency_list:\n",
    "    for e in adjacency_list[l]:\n",
    "        edge_index.append([lookup[l], lookup[e]])"
   ]
  },
  {
   "cell_type": "code",
   "execution_count": null,
   "metadata": {},
   "outputs": [],
   "source": [
    "graphs = []\n",
    "classes = {\"normal\": 0}\n",
    "counter = 1\n",
    "for d in os.listdir(\"data\"):\n",
    "    d = d.split(\"_\")[0]\n",
    "    if d in classes: continue\n",
    "    classes[d] = counter\n",
    "    counter += 1\n",
    "\n",
    "for d in os.listdir(\"data\"):\n",
    "    for f in glob.glob(os.path.join(\"data\", d, \"1000genome*\")):\n",
    "        graph = {\"y\": classes[d.split(\"_\")[0]], \"edge_index\": edge_index, \"x\":[]}\n",
    "        features = pd.read_csv(f, index_col=[0])\n",
    "        for l in lookup:\n",
    "            if l.startswith(\"create_dir_\") or l.startswith(\"cleanup_\"):\n",
    "                new_l = l.split(\"-\")[0]\n",
    "            else:\n",
    "                new_l = l\n",
    "            job_features = features[features.index.str.startswith(new_l)][['type', 'ready',\n",
    "                                   'submit', 'execute_start', 'execute_end', 'post_script_start',\n",
    "                                   'post_script_end', 'wms_delay', 'pre_script_delay', 'queue_delay',\n",
    "                                   'runtime', 'post_script_delay', 'stage_in_delay', 'stage_out_delay']].values.tolist()[0]\n",
    "            \n",
    "            graph['x'].insert(lookup[l], job_features)\n",
    "        graphs.append(graph)\n",
    "\n",
    "#graphs should have the input for pytorch geometric"
   ]
  }
 ],
 "metadata": {
  "kernelspec": {
   "display_name": "Python 3",
   "language": "python",
   "name": "python3"
  },
  "language_info": {
   "codemirror_mode": {
    "name": "ipython",
    "version": 3
   },
   "file_extension": ".py",
   "mimetype": "text/x-python",
   "name": "python",
   "nbconvert_exporter": "python",
   "pygments_lexer": "ipython3",
   "version": "3.6.9"
  }
 },
 "nbformat": 4,
 "nbformat_minor": 4
}
